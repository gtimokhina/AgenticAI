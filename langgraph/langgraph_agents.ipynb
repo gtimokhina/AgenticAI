{
 "cells": [
  {
   "cell_type": "markdown",
   "id": "b59739c8",
   "metadata": {},
   "source": [
    "LangGraph Playbook"
   ]
  },
  {
   "cell_type": "code",
   "execution_count": 1,
   "id": "7405cde0",
   "metadata": {},
   "outputs": [],
   "source": [
    "from typing import Annotated\n",
    "from langgraph.graph import StateGraph, START, END\n",
    "from langgraph.graph.message import add_messages\n",
    "from langchain_openai import ChatOpenAI\n",
    "from dotenv import load_dotenv\n",
    "from IPython.display import display, Image\n",
    "import gradio as gr\n",
    "from pydantic import BaseModel, Field\n",
    "from langgraph.prebuilt import ToolNode, tools_condition\n",
    "import requests\n",
    "import os\n",
    "from typing import TypedDict"
   ]
  },
  {
   "cell_type": "code",
   "execution_count": 2,
   "id": "e5af3937",
   "metadata": {},
   "outputs": [
    {
     "data": {
      "text/plain": [
       "True"
      ]
     },
     "execution_count": 2,
     "metadata": {},
     "output_type": "execute_result"
    }
   ],
   "source": [
    "load_dotenv(override=True)"
   ]
  },
  {
   "cell_type": "code",
   "execution_count": null,
   "id": "e7939bb3",
   "metadata": {},
   "outputs": [],
   "source": [
    "class State(BaseModel):\n",
    "    message: Annotated[list, add_messages]\n",
    "\n",
    "graph_bulder = StateGraph(State)\n",
    "\n",
    "llm = ChatOpenAI(model=\"gpt-4o-mini\", temperature=0)\n",
    "\n",
    "def chatbot_node(old_state: State) -> State:\n",
    "    response = llm.invoke(old_state.message)\n",
    "    return State(message=[response])\n",
    "\n",
    "graph_bulder.add_node(\"chatbot\", chatbot_node)\n",
    "\n",
    "graph_bulder.add_edge(START, \"chatbot\")\n",
    "graph_bulder.add_edge(\"chatbot\", END)\n",
    "\n",
    "graph = graph_bulder.compile()\n",
    "display(Image(graph.get_graph().draw_mermaid_png()))"
   ]
  },
  {
   "cell_type": "code",
   "execution_count": null,
   "id": "008a6b34",
   "metadata": {},
   "outputs": [],
   "source": [
    "# calling the chatbot\n",
    "def chat(user_input: str, history):\n",
    "    initial_state = State(message=[user_input])\n",
    "    result = graph.invoke(initial_state)\n",
    "    print(result[\"message\"][-1].content)\n",
    "    return result[\"message\"][-1].content\n",
    "\n",
    "gr.ChatInterface(chat, type=\"messages\").launch()\n"
   ]
  },
  {
   "cell_type": "code",
   "execution_count": 3,
   "id": "72613a23",
   "metadata": {},
   "outputs": [
    {
     "data": {
      "text/plain": [
       "\"Tokyo, Tokyo, Japan Weather Forecast, with current conditions, wind, air quality, and what to expect for the next 3 days. 10 Day Weather-Minato-ku, Tokyo Prefecture, Japan. As of 9:52 pm JST. High Wave Advisory. +1 More. Tonight. --/81°. 4%. Night. 81°. 4%. SSW 11 mph. Scattered clouds. Feels Like: 113 °F. Humidity: 44%. Precipitation: Rain: 0 Snow: 0. Precipitation Chance: 5%. SSE. Wind: 12 ... 6 Aug (Wednesday), 201 Mostly cloudy, 38° ; 7 Aug (Thursday), 113 Clear, frequent scattered showers later, 35° ; 8 Aug (Friday), 203 Cloudy, frequent scattered ... PARTLY CLOUDY. MaximumMinimum, MaximumMinimum, MaximumMinimum. Tokyo36°C-, Tokyo37°C27°C, Tokyo--. Probability of precipitation. 00-06--%. 06-12--%. 12-180%. Day by day forecast · Tonight. ,. Partly cloudy and a gentle breeze · Sunday 3rd AugustSun 3rd. ,. Sunny intervals and a gentle breeze · Monday 4th AugustMon ... Tokyo Weather Forecasts. Weather Underground provides local & long-range weather forecasts, weatherreports, maps & tropical weather conditions for the Tokyo ... Get the latest on Japan's weather forecast, geography, seasonal information and average yearly temperatures throughout the country. Weather in Tokyo, Japan ... Partly sunny. Feels Like: 91 °F Forecast: 100 / 82 °F Wind: 5 mph ↑ from South. Location: ... A mix of sun and clouds. Night. Partly cloudy. 28. °. Feels 33. Wind. Wind Gust. Humidity. 9 km/h SE. 13 km/h. 87%. P.O.P..\""
      ]
     },
     "execution_count": 3,
     "metadata": {},
     "output_type": "execute_result"
    }
   ],
   "source": [
    "from langchain_community.utilities import GoogleSerperAPIWrapper\n",
    "\n",
    "serper = GoogleSerperAPIWrapper()\n",
    "serper.run(\"What is the weather in Tokyo?\")"
   ]
  },
  {
   "cell_type": "code",
   "execution_count": 4,
   "id": "af63a4c4",
   "metadata": {},
   "outputs": [
    {
     "data": {
      "text/plain": [
       "\"Tokyo, Tokyo, Japan Weather Forecast, with current conditions, wind, air quality, and what to expect for the next 3 days. 10 Day Weather-Minato-ku, Tokyo Prefecture, Japan. As of 9:52 pm JST. High Wave Advisory. +1 More. Tonight. --/81°. 4%. Night. 81°. 4%. SSW 11 mph. Scattered clouds. Feels Like: 113 °F. Humidity: 44%. Precipitation: Rain: 0 Snow: 0. Precipitation Chance: 5%. SSE. Wind: 12 ... 6 Aug (Wednesday), 201 Mostly cloudy, 38° ; 7 Aug (Thursday), 113 Clear, frequent scattered showers later, 35° ; 8 Aug (Friday), 203 Cloudy, frequent scattered ... PARTLY CLOUDY. MaximumMinimum, MaximumMinimum, MaximumMinimum. Tokyo36°C-, Tokyo37°C27°C, Tokyo--. Probability of precipitation. 00-06--%. 06-12--%. 12-180%. Partly sunny. Feels Like: 91 °F Forecast: 100 / 82 °F Wind: 5 mph ↑ from South. Location: Tokyo. Current Time: Aug ... Day by day forecast · Tonight. ,. Partly cloudy and a gentle breeze · Sunday 3rd AugustSun 3rd. ,. Sunny intervals and a gentle breeze · Monday 4th AugustMon ... Get the latest on Japan's weather forecast, geography, seasonal information and average yearly temperatures throughout the country. Tokyo Weather Forecasts. Weather Underground provides local & long-range weather forecasts, weatherreports, maps & tropical weather conditions for the Tokyo ... A mix of sun and clouds. Night. Partly cloudy. 28. °. Feels 33. Wind. Wind Gust. Humidity. 9 km/h SE. 13 km/h. 87%. P.O.P..\""
      ]
     },
     "execution_count": 4,
     "metadata": {},
     "output_type": "execute_result"
    }
   ],
   "source": [
    "from langchain.agents import Tool\n",
    "\n",
    "tool_search = Tool(\n",
    "    name=\"Search\",\n",
    "    description=\"Search the web for information\",\n",
    "    func=serper.run\n",
    ")\n",
    "\n",
    "tool_search.invoke(\"What is the weather in Tokyo?\")"
   ]
  },
  {
   "cell_type": "code",
   "execution_count": 5,
   "id": "2c31fbda",
   "metadata": {},
   "outputs": [],
   "source": [
    "pushover_token = os.getenv(\"PUSHOVER_TOKEN\")\n",
    "pushover_user = os.getenv(\"PUSHOVER_USER\")\n",
    "pushover_url = \"https://api.pushover.net/1/messages.json\"\n",
    "\n",
    "def push(text: str):\n",
    "    \"\"\"Send a push notification to the user\"\"\"\n",
    "    requests.post(pushover_url, data={\n",
    "        \"token\": pushover_token,\n",
    "        \"user\": pushover_user,\n",
    "        \"message\": text\n",
    "    })"
   ]
  },
  {
   "cell_type": "code",
   "execution_count": 6,
   "id": "f26b23d5",
   "metadata": {},
   "outputs": [],
   "source": [
    "tool_push = Tool(\n",
    "    name=\"Send_push_notification\",\n",
    "    description=\"Send a push notification to the user\",\n",
    "    func=push\n",
    ")\n",
    "\n",
    "tool_push.invoke(\"Hello, me\")"
   ]
  },
  {
   "cell_type": "code",
   "execution_count": 7,
   "id": "58c038db",
   "metadata": {},
   "outputs": [],
   "source": [
    "tools = [tool_search, tool_push]"
   ]
  },
  {
   "cell_type": "code",
   "execution_count": 8,
   "id": "e9b88cb6",
   "metadata": {},
   "outputs": [],
   "source": [
    "class State(TypedDict):\n",
    "    messages:Annotated[list, add_messages]"
   ]
  },
  {
   "cell_type": "code",
   "execution_count": 10,
   "id": "447a18d8",
   "metadata": {},
   "outputs": [
    {
     "data": {
      "text/plain": [
       "<langgraph.graph.state.StateGraph at 0x12000b050>"
      ]
     },
     "execution_count": 10,
     "metadata": {},
     "output_type": "execute_result"
    }
   ],
   "source": [
    "graph_builder = StateGraph(State)\n",
    "\n",
    "llm = ChatOpenAI(model=\"gpt-4o-mini\")\n",
    "llm_with_tools = llm.bind_tools(tools)\n",
    "\n",
    "def chatbot(state: State):\n",
    "    return {\"messages\": [llm_with_tools.invoke(state[\"messages\"])]}\n",
    "\n",
    "graph_builder.add_node(\"chatbot\", chatbot)\n",
    "graph_builder.add_node(\"tools\", ToolNode(tools=tools))\n"
   ]
  },
  {
   "cell_type": "code",
   "execution_count": 11,
   "id": "981ac2cc",
   "metadata": {},
   "outputs": [
    {
     "data": {
      "text/plain": [
       "<langgraph.graph.state.StateGraph at 0x12000b050>"
      ]
     },
     "execution_count": 11,
     "metadata": {},
     "output_type": "execute_result"
    }
   ],
   "source": [
    "graph_builder.add_conditional_edges(\"chatbot\", tools_condition, \"tools\")\n",
    "\n",
    "graph_builder.add_edge(\"tools\", \"chatbot\")\n",
    "graph_builder.add_edge(START, \"chatbot\")\n"
   ]
  },
  {
   "cell_type": "code",
   "execution_count": 13,
   "id": "123053f5",
   "metadata": {},
   "outputs": [
    {
     "data": {
      "image/png": "[encoded data removed]",
      "text/plain": [
       "<IPython.core.display.Image object>"
      ]
     },
     "metadata": {},
     "output_type": "display_data"
    }
   ],
   "source": [
    "graph = graph_builder.compile()\n",
    "display(Image(graph.get_graph().draw_mermaid_png()))"
   ]
  },
  {
   "cell_type": "code",
   "execution_count": 15,
   "id": "2d5285c7",
   "metadata": {},
   "outputs": [
    {
     "name": "stderr",
     "output_type": "stream",
     "text": [
      "/Users/gulnaratimokhina/Documents/AgenticAIWorkspace/agenticAI/.venv/lib/python3.12/site-packages/gradio/blocks.py:1180: UserWarning: Cannot load dark. Caught Exception: 404 Client Error: Not Found for url: https://huggingface.co/api/spaces/dark (Request ID: Root=1-6892615c-5077e34444fbd1db5ea7dc23;e3518472-a8f3-4dd5-98b2-d94c966c1507)\n",
      "\n",
      "Sorry, we can't find the page you are looking for.\n",
      "  warnings.warn(f\"Cannot load {theme}. Caught Exception: {str(e)}\")\n"
     ]
    },
    {
     "name": "stdout",
     "output_type": "stream",
     "text": [
      "* Running on local URL:  http://127.0.0.1:7863\n",
      "* To create a public link, set `share=True` in `launch()`.\n"
     ]
    },
    {
     "data": {
      "text/html": [
       "<div><iframe src=\"http://127.0.0.1:7863/\" width=\"100%\" height=\"500\" allow=\"autoplay; camera; microphone; clipboard-read; clipboard-write;\" frameborder=\"0\" allowfullscreen></iframe></div>"
      ],
      "text/plain": [
       "<IPython.core.display.HTML object>"
      ]
     },
     "metadata": {},
     "output_type": "display_data"
    },
    {
     "data": {
      "text/plain": []
     },
     "execution_count": 15,
     "metadata": {},
     "output_type": "execute_result"
    }
   ],
   "source": [
    "def chat(user_input: str, history):\n",
    "    result = graph.invoke({\"messages\": [{\"role\": \"user\", \"content\": user_input}]})\n",
    "    return result[\"messages\"][-1].content\n",
    "\n",
    "gr.ChatInterface(chat, type=\"messages\", theme=\"dark\" ).launch()"
   ]
  },
  {
   "cell_type": "markdown",
   "id": "9d159806",
   "metadata": {},
   "source": [
    "Adding Memory"
   ]
  },
  {
   "cell_type": "code",
   "execution_count": 16,
   "id": "4b6d1f48",
   "metadata": {},
   "outputs": [],
   "source": [
    "from langgraph.checkpoint.memory import MemorySaver\n",
    "memory = MemorySaver()"
   ]
  },
  {
   "cell_type": "code",
   "execution_count": 17,
   "id": "65d576af",
   "metadata": {},
   "outputs": [
    {
     "data": {
      "image/png": "[encoded data removed]",
      "text/plain": [
       "<IPython.core.display.Image object>"
      ]
     },
     "metadata": {},
     "output_type": "display_data"
    }
   ],
   "source": [
    "# Steps 1 and 2\n",
    "graph_builder = StateGraph(State)\n",
    "\n",
    "\n",
    "# Step 3\n",
    "llm = ChatOpenAI(model=\"gpt-4o-mini\")\n",
    "llm_with_tools = llm.bind_tools(tools)\n",
    "\n",
    "def chatbot(state: State):\n",
    "    print(state)\n",
    "    return {\"messages\": [llm_with_tools.invoke(state[\"messages\"])]}\n",
    "\n",
    "graph_builder.add_node(\"chatbot\", chatbot)\n",
    "graph_builder.add_node(\"tools\", ToolNode(tools=tools))\n",
    "\n",
    "# Step 4\n",
    "graph_builder.add_conditional_edges( \"chatbot\", tools_condition, \"tools\")\n",
    "graph_builder.add_edge(\"tools\", \"chatbot\")\n",
    "graph_builder.add_edge(START, \"chatbot\")\n",
    "\n",
    "# Step 5\n",
    "graph = graph_builder.compile(checkpointer=memory)\n",
    "display(Image(graph.get_graph().draw_mermaid_png()))"
   ]
  },
  {
   "cell_type": "code",
   "execution_count": null,
   "id": "5aa5e828",
   "metadata": {},
   "outputs": [
    {
     "name": "stderr",
     "output_type": "stream",
     "text": [
      "/Users/gulnaratimokhina/Documents/AgenticAIWorkspace/agenticAI/.venv/lib/python3.12/site-packages/gradio/blocks.py:1180: UserWarning: Cannot load dark. Caught Exception: 404 Client Error: Not Found for url: https://huggingface.co/api/spaces/dark (Request ID: Root=1-689264fa-7803a22c3b25516308fe89dd;1d611812-bb6b-4200-bce0-3af9cfc492e7)\n",
      "\n",
      "Sorry, we can't find the page you are looking for.\n",
      "  warnings.warn(f\"Cannot load {theme}. Caught Exception: {str(e)}\")\n"
     ]
    },
    {
     "name": "stdout",
     "output_type": "stream",
     "text": [
      "* Running on local URL:  http://127.0.0.1:7864\n",
      "* To create a public link, set `share=True` in `launch()`.\n"
     ]
    },
    {
     "data": {
      "text/html": [
       "<div><iframe src=\"http://127.0.0.1:7864/\" width=\"100%\" height=\"500\" allow=\"autoplay; camera; microphone; clipboard-read; clipboard-write;\" frameborder=\"0\" allowfullscreen></iframe></div>"
      ],
      "text/plain": [
       "<IPython.core.display.HTML object>"
      ]
     },
     "metadata": {},
     "output_type": "display_data"
    },
    {
     "data": {
      "text/plain": []
     },
     "execution_count": 18,
     "metadata": {},
     "output_type": "execute_result"
    },
    {
     "name": "stdout",
     "output_type": "stream",
     "text": [
      "{'messages': [HumanMessage(content='hello', additional_kwargs={}, response_metadata={}, id='f95c6374-6937-4687-a360-d6508f8a5518')]}\n",
      "{'messages': [HumanMessage(content='hello', additional_kwargs={}, response_metadata={}, id='f95c6374-6937-4687-a360-d6508f8a5518'), AIMessage(content='Hello! How can I assist you today?', additional_kwargs={'refusal': None}, response_metadata={'token_usage': {'completion_tokens': 10, 'prompt_tokens': 80, 'total_tokens': 90, 'completion_tokens_details': {'accepted_prediction_tokens': 0, 'audio_tokens': 0, 'reasoning_tokens': 0, 'rejected_prediction_tokens': 0}, 'prompt_tokens_details': {'audio_tokens': 0, 'cached_tokens': 0}}, 'model_name': 'gpt-4o-mini-2024-07-18', 'system_fingerprint': 'fp_34a54ae93c', 'id': 'chatcmpl-C1IGoEZQH3tQlYPcXTjn22tr1Gnno', 'service_tier': 'default', 'finish_reason': 'stop', 'logprobs': None}, id='run--ac59bf91-6ea4-4402-9b2e-0120c3f48ec8-0', usage_metadata={'input_tokens': 80, 'output_tokens': 10, 'total_tokens': 90, 'input_token_details': {'audio': 0, 'cache_read': 0}, 'output_token_details': {'audio': 0, 'reasoning': 0}}), HumanMessage(content='my name is Gulya', additional_kwargs={}, response_metadata={}, id='eaf2fd5c-adf3-4d86-98a7-2c0ecdd98de7')]}\n",
      "{'messages': [HumanMessage(content='hello', additional_kwargs={}, response_metadata={}, id='f95c6374-6937-4687-a360-d6508f8a5518'), AIMessage(content='Hello! How can I assist you today?', additional_kwargs={'refusal': None}, response_metadata={'token_usage': {'completion_tokens': 10, 'prompt_tokens': 80, 'total_tokens': 90, 'completion_tokens_details': {'accepted_prediction_tokens': 0, 'audio_tokens': 0, 'reasoning_tokens': 0, 'rejected_prediction_tokens': 0}, 'prompt_tokens_details': {'audio_tokens': 0, 'cached_tokens': 0}}, 'model_name': 'gpt-4o-mini-2024-07-18', 'system_fingerprint': 'fp_34a54ae93c', 'id': 'chatcmpl-C1IGoEZQH3tQlYPcXTjn22tr1Gnno', 'service_tier': 'default', 'finish_reason': 'stop', 'logprobs': None}, id='run--ac59bf91-6ea4-4402-9b2e-0120c3f48ec8-0', usage_metadata={'input_tokens': 80, 'output_tokens': 10, 'total_tokens': 90, 'input_token_details': {'audio': 0, 'cache_read': 0}, 'output_token_details': {'audio': 0, 'reasoning': 0}}), HumanMessage(content='my name is Gulya', additional_kwargs={}, response_metadata={}, id='eaf2fd5c-adf3-4d86-98a7-2c0ecdd98de7'), AIMessage(content='Nice to meet you, Gulya! How can I help you today?', additional_kwargs={'refusal': None}, response_metadata={'token_usage': {'completion_tokens': 16, 'prompt_tokens': 102, 'total_tokens': 118, 'completion_tokens_details': {'accepted_prediction_tokens': 0, 'audio_tokens': 0, 'reasoning_tokens': 0, 'rejected_prediction_tokens': 0}, 'prompt_tokens_details': {'audio_tokens': 0, 'cached_tokens': 0}}, 'model_name': 'gpt-4o-mini-2024-07-18', 'system_fingerprint': 'fp_34a54ae93c', 'id': 'chatcmpl-C1IGugv89QLD9b6DMzoxquxV9NLux', 'service_tier': 'default', 'finish_reason': 'stop', 'logprobs': None}, id='run--9f456b10-4a9f-4dc5-8076-187ebc0a5d7a-0', usage_metadata={'input_tokens': 102, 'output_tokens': 16, 'total_tokens': 118, 'input_token_details': {'audio': 0, 'cache_read': 0}, 'output_token_details': {'audio': 0, 'reasoning': 0}}), HumanMessage(content='what is my name', additional_kwargs={}, response_metadata={}, id='8a5c066b-2c9b-472f-b048-24c42721d7a5')]}\n",
      "{'messages': [HumanMessage(content='hello', additional_kwargs={}, response_metadata={}, id='f95c6374-6937-4687-a360-d6508f8a5518'), AIMessage(content='Hello! How can I assist you today?', additional_kwargs={'refusal': None}, response_metadata={'token_usage': {'completion_tokens': 10, 'prompt_tokens': 80, 'total_tokens': 90, 'completion_tokens_details': {'accepted_prediction_tokens': 0, 'audio_tokens': 0, 'reasoning_tokens': 0, 'rejected_prediction_tokens': 0}, 'prompt_tokens_details': {'audio_tokens': 0, 'cached_tokens': 0}}, 'model_name': 'gpt-4o-mini-2024-07-18', 'system_fingerprint': 'fp_34a54ae93c', 'id': 'chatcmpl-C1IGoEZQH3tQlYPcXTjn22tr1Gnno', 'service_tier': 'default', 'finish_reason': 'stop', 'logprobs': None}, id='run--ac59bf91-6ea4-4402-9b2e-0120c3f48ec8-0', usage_metadata={'input_tokens': 80, 'output_tokens': 10, 'total_tokens': 90, 'input_token_details': {'audio': 0, 'cache_read': 0}, 'output_token_details': {'audio': 0, 'reasoning': 0}}), HumanMessage(content='my name is Gulya', additional_kwargs={}, response_metadata={}, id='eaf2fd5c-adf3-4d86-98a7-2c0ecdd98de7'), AIMessage(content='Nice to meet you, Gulya! How can I help you today?', additional_kwargs={'refusal': None}, response_metadata={'token_usage': {'completion_tokens': 16, 'prompt_tokens': 102, 'total_tokens': 118, 'completion_tokens_details': {'accepted_prediction_tokens': 0, 'audio_tokens': 0, 'reasoning_tokens': 0, 'rejected_prediction_tokens': 0}, 'prompt_tokens_details': {'audio_tokens': 0, 'cached_tokens': 0}}, 'model_name': 'gpt-4o-mini-2024-07-18', 'system_fingerprint': 'fp_34a54ae93c', 'id': 'chatcmpl-C1IGugv89QLD9b6DMzoxquxV9NLux', 'service_tier': 'default', 'finish_reason': 'stop', 'logprobs': None}, id='run--9f456b10-4a9f-4dc5-8076-187ebc0a5d7a-0', usage_metadata={'input_tokens': 102, 'output_tokens': 16, 'total_tokens': 118, 'input_token_details': {'audio': 0, 'cache_read': 0}, 'output_token_details': {'audio': 0, 'reasoning': 0}}), HumanMessage(content='what is my name', additional_kwargs={}, response_metadata={}, id='8a5c066b-2c9b-472f-b048-24c42721d7a5'), AIMessage(content='Your name is Gulya.', additional_kwargs={'refusal': None}, response_metadata={'token_usage': {'completion_tokens': 7, 'prompt_tokens': 129, 'total_tokens': 136, 'completion_tokens_details': {'accepted_prediction_tokens': 0, 'audio_tokens': 0, 'reasoning_tokens': 0, 'rejected_prediction_tokens': 0}, 'prompt_tokens_details': {'audio_tokens': 0, 'cached_tokens': 0}}, 'model_name': 'gpt-4o-mini-2024-07-18', 'system_fingerprint': 'fp_34a54ae93c', 'id': 'chatcmpl-C1IH0SmYmFMyLApZTSwMTGujO9Eng', 'service_tier': 'default', 'finish_reason': 'stop', 'logprobs': None}, id='run--ec29e377-0db0-4401-a147-a14d45e9f629-0', usage_metadata={'input_tokens': 129, 'output_tokens': 7, 'total_tokens': 136, 'input_token_details': {'audio': 0, 'cache_read': 0}, 'output_token_details': {'audio': 0, 'reasoning': 0}}), HumanMessage(content='graph.get_state()', additional_kwargs={}, response_metadata={}, id='ff7a7968-1274-40ea-9401-00a224ee95f1')]}\n"
     ]
    }
   ],
   "source": [
    "# config will add memory to chat\n",
    "config = {\"configurable\": {\"thread_id\": \"1\"}}\n",
    "\n",
    "def chat(user_input: str, history):\n",
    "    result = graph.invoke({\"messages\": [{\"role\": \"user\", \"content\": user_input}]}, config = config)\n",
    "    return result[\"messages\"][-1].content\n",
    "\n",
    "gr.ChatInterface(chat, type=\"messages\", theme=\"dark\" ).launch()\n",
    "    "
   ]
  },
  {
   "cell_type": "code",
   "execution_count": 20,
   "id": "b6566d05",
   "metadata": {},
   "outputs": [
    {
     "data": {
      "text/plain": [
       "StateSnapshot(values={'messages': [HumanMessage(content='hello', additional_kwargs={}, response_metadata={}, id='f95c6374-6937-4687-a360-d6508f8a5518'), AIMessage(content='Hello! How can I assist you today?', additional_kwargs={'refusal': None}, response_metadata={'token_usage': {'completion_tokens': 10, 'prompt_tokens': 80, 'total_tokens': 90, 'completion_tokens_details': {'accepted_prediction_tokens': 0, 'audio_tokens': 0, 'reasoning_tokens': 0, 'rejected_prediction_tokens': 0}, 'prompt_tokens_details': {'audio_tokens': 0, 'cached_tokens': 0}}, 'model_name': 'gpt-4o-mini-2024-07-18', 'system_fingerprint': 'fp_34a54ae93c', 'id': 'chatcmpl-C1IGoEZQH3tQlYPcXTjn22tr1Gnno', 'service_tier': 'default', 'finish_reason': 'stop', 'logprobs': None}, id='run--ac59bf91-6ea4-4402-9b2e-0120c3f48ec8-0', usage_metadata={'input_tokens': 80, 'output_tokens': 10, 'total_tokens': 90, 'input_token_details': {'audio': 0, 'cache_read': 0}, 'output_token_details': {'audio': 0, 'reasoning': 0}}), HumanMessage(content='my name is Gulya', additional_kwargs={}, response_metadata={}, id='eaf2fd5c-adf3-4d86-98a7-2c0ecdd98de7'), AIMessage(content='Nice to meet you, Gulya! How can I help you today?', additional_kwargs={'refusal': None}, response_metadata={'token_usage': {'completion_tokens': 16, 'prompt_tokens': 102, 'total_tokens': 118, 'completion_tokens_details': {'accepted_prediction_tokens': 0, 'audio_tokens': 0, 'reasoning_tokens': 0, 'rejected_prediction_tokens': 0}, 'prompt_tokens_details': {'audio_tokens': 0, 'cached_tokens': 0}}, 'model_name': 'gpt-4o-mini-2024-07-18', 'system_fingerprint': 'fp_34a54ae93c', 'id': 'chatcmpl-C1IGugv89QLD9b6DMzoxquxV9NLux', 'service_tier': 'default', 'finish_reason': 'stop', 'logprobs': None}, id='run--9f456b10-4a9f-4dc5-8076-187ebc0a5d7a-0', usage_metadata={'input_tokens': 102, 'output_tokens': 16, 'total_tokens': 118, 'input_token_details': {'audio': 0, 'cache_read': 0}, 'output_token_details': {'audio': 0, 'reasoning': 0}}), HumanMessage(content='what is my name', additional_kwargs={}, response_metadata={}, id='8a5c066b-2c9b-472f-b048-24c42721d7a5'), AIMessage(content='Your name is Gulya.', additional_kwargs={'refusal': None}, response_metadata={'token_usage': {'completion_tokens': 7, 'prompt_tokens': 129, 'total_tokens': 136, 'completion_tokens_details': {'accepted_prediction_tokens': 0, 'audio_tokens': 0, 'reasoning_tokens': 0, 'rejected_prediction_tokens': 0}, 'prompt_tokens_details': {'audio_tokens': 0, 'cached_tokens': 0}}, 'model_name': 'gpt-4o-mini-2024-07-18', 'system_fingerprint': 'fp_34a54ae93c', 'id': 'chatcmpl-C1IH0SmYmFMyLApZTSwMTGujO9Eng', 'service_tier': 'default', 'finish_reason': 'stop', 'logprobs': None}, id='run--ec29e377-0db0-4401-a147-a14d45e9f629-0', usage_metadata={'input_tokens': 129, 'output_tokens': 7, 'total_tokens': 136, 'input_token_details': {'audio': 0, 'cache_read': 0}, 'output_token_details': {'audio': 0, 'reasoning': 0}}), HumanMessage(content='graph.get_state()', additional_kwargs={}, response_metadata={}, id='ff7a7968-1274-40ea-9401-00a224ee95f1'), AIMessage(content=\"It seems like you're referencing a method or function, possibly related to a programming context. Can you provide more details about what you're trying to achieve?\", additional_kwargs={'refusal': None}, response_metadata={'token_usage': {'completion_tokens': 30, 'prompt_tokens': 147, 'total_tokens': 177, 'completion_tokens_details': {'accepted_prediction_tokens': 0, 'audio_tokens': 0, 'reasoning_tokens': 0, 'rejected_prediction_tokens': 0}, 'prompt_tokens_details': {'audio_tokens': 0, 'cached_tokens': 0}}, 'model_name': 'gpt-4o-mini-2024-07-18', 'system_fingerprint': 'fp_34a54ae93c', 'id': 'chatcmpl-C1IHK0tY4dntdE95FXVhQZNXvAP7B', 'service_tier': 'default', 'finish_reason': 'stop', 'logprobs': None}, id='run--62efc206-0f70-4cab-b1da-7e4208d02dcf-0', usage_metadata={'input_tokens': 147, 'output_tokens': 30, 'total_tokens': 177, 'input_token_details': {'audio': 0, 'cache_read': 0}, 'output_token_details': {'audio': 0, 'reasoning': 0}})]}, next=(), config={'configurable': {'thread_id': '1', 'checkpoint_ns': '', 'checkpoint_id': '1f072383-abd8-6b4e-800a-fb96bcd41ab8'}}, metadata={'source': 'loop', 'writes': {'chatbot': {'messages': [AIMessage(content=\"It seems like you're referencing a method or function, possibly related to a programming context. Can you provide more details about what you're trying to achieve?\", additional_kwargs={'refusal': None}, response_metadata={'token_usage': {'completion_tokens': 30, 'prompt_tokens': 147, 'total_tokens': 177, 'completion_tokens_details': {'accepted_prediction_tokens': 0, 'audio_tokens': 0, 'reasoning_tokens': 0, 'rejected_prediction_tokens': 0}, 'prompt_tokens_details': {'audio_tokens': 0, 'cached_tokens': 0}}, 'model_name': 'gpt-4o-mini-2024-07-18', 'system_fingerprint': 'fp_34a54ae93c', 'id': 'chatcmpl-C1IHK0tY4dntdE95FXVhQZNXvAP7B', 'service_tier': 'default', 'finish_reason': 'stop', 'logprobs': None}, id='run--62efc206-0f70-4cab-b1da-7e4208d02dcf-0', usage_metadata={'input_tokens': 147, 'output_tokens': 30, 'total_tokens': 177, 'input_token_details': {'audio': 0, 'cache_read': 0}, 'output_token_details': {'audio': 0, 'reasoning': 0}})]}}, 'step': 10, 'parents': {}, 'thread_id': '1'}, created_at='2025-08-05T20:10:27.772080+00:00', parent_config={'configurable': {'thread_id': '1', 'checkpoint_ns': '', 'checkpoint_id': '1f072383-9f72-64d6-8009-a8ad83ea4fd4'}}, tasks=(), interrupts=())"
      ]
     },
     "execution_count": 20,
     "metadata": {},
     "output_type": "execute_result"
    }
   ],
   "source": [
    "graph.get_state(config)"
   ]
  },
  {
   "cell_type": "code",
   "execution_count": 21,
   "id": "f20825a3",
   "metadata": {},
   "outputs": [
    {
     "data": {
      "text/plain": [
       "[StateSnapshot(values={'messages': [HumanMessage(content='hello', additional_kwargs={}, response_metadata={}, id='f95c6374-6937-4687-a360-d6508f8a5518'), AIMessage(content='Hello! How can I assist you today?', additional_kwargs={'refusal': None}, response_metadata={'token_usage': {'completion_tokens': 10, 'prompt_tokens': 80, 'total_tokens': 90, 'completion_tokens_details': {'accepted_prediction_tokens': 0, 'audio_tokens': 0, 'reasoning_tokens': 0, 'rejected_prediction_tokens': 0}, 'prompt_tokens_details': {'audio_tokens': 0, 'cached_tokens': 0}}, 'model_name': 'gpt-4o-mini-2024-07-18', 'system_fingerprint': 'fp_34a54ae93c', 'id': 'chatcmpl-C1IGoEZQH3tQlYPcXTjn22tr1Gnno', 'service_tier': 'default', 'finish_reason': 'stop', 'logprobs': None}, id='run--ac59bf91-6ea4-4402-9b2e-0120c3f48ec8-0', usage_metadata={'input_tokens': 80, 'output_tokens': 10, 'total_tokens': 90, 'input_token_details': {'audio': 0, 'cache_read': 0}, 'output_token_details': {'audio': 0, 'reasoning': 0}}), HumanMessage(content='my name is Gulya', additional_kwargs={}, response_metadata={}, id='eaf2fd5c-adf3-4d86-98a7-2c0ecdd98de7'), AIMessage(content='Nice to meet you, Gulya! How can I help you today?', additional_kwargs={'refusal': None}, response_metadata={'token_usage': {'completion_tokens': 16, 'prompt_tokens': 102, 'total_tokens': 118, 'completion_tokens_details': {'accepted_prediction_tokens': 0, 'audio_tokens': 0, 'reasoning_tokens': 0, 'rejected_prediction_tokens': 0}, 'prompt_tokens_details': {'audio_tokens': 0, 'cached_tokens': 0}}, 'model_name': 'gpt-4o-mini-2024-07-18', 'system_fingerprint': 'fp_34a54ae93c', 'id': 'chatcmpl-C1IGugv89QLD9b6DMzoxquxV9NLux', 'service_tier': 'default', 'finish_reason': 'stop', 'logprobs': None}, id='run--9f456b10-4a9f-4dc5-8076-187ebc0a5d7a-0', usage_metadata={'input_tokens': 102, 'output_tokens': 16, 'total_tokens': 118, 'input_token_details': {'audio': 0, 'cache_read': 0}, 'output_token_details': {'audio': 0, 'reasoning': 0}}), HumanMessage(content='what is my name', additional_kwargs={}, response_metadata={}, id='8a5c066b-2c9b-472f-b048-24c42721d7a5'), AIMessage(content='Your name is Gulya.', additional_kwargs={'refusal': None}, response_metadata={'token_usage': {'completion_tokens': 7, 'prompt_tokens': 129, 'total_tokens': 136, 'completion_tokens_details': {'accepted_prediction_tokens': 0, 'audio_tokens': 0, 'reasoning_tokens': 0, 'rejected_prediction_tokens': 0}, 'prompt_tokens_details': {'audio_tokens': 0, 'cached_tokens': 0}}, 'model_name': 'gpt-4o-mini-2024-07-18', 'system_fingerprint': 'fp_34a54ae93c', 'id': 'chatcmpl-C1IH0SmYmFMyLApZTSwMTGujO9Eng', 'service_tier': 'default', 'finish_reason': 'stop', 'logprobs': None}, id='run--ec29e377-0db0-4401-a147-a14d45e9f629-0', usage_metadata={'input_tokens': 129, 'output_tokens': 7, 'total_tokens': 136, 'input_token_details': {'audio': 0, 'cache_read': 0}, 'output_token_details': {'audio': 0, 'reasoning': 0}}), HumanMessage(content='graph.get_state()', additional_kwargs={}, response_metadata={}, id='ff7a7968-1274-40ea-9401-00a224ee95f1'), AIMessage(content=\"It seems like you're referencing a method or function, possibly related to a programming context. Can you provide more details about what you're trying to achieve?\", additional_kwargs={'refusal': None}, response_metadata={'token_usage': {'completion_tokens': 30, 'prompt_tokens': 147, 'total_tokens': 177, 'completion_tokens_details': {'accepted_prediction_tokens': 0, 'audio_tokens': 0, 'reasoning_tokens': 0, 'rejected_prediction_tokens': 0}, 'prompt_tokens_details': {'audio_tokens': 0, 'cached_tokens': 0}}, 'model_name': 'gpt-4o-mini-2024-07-18', 'system_fingerprint': 'fp_34a54ae93c', 'id': 'chatcmpl-C1IHK0tY4dntdE95FXVhQZNXvAP7B', 'service_tier': 'default', 'finish_reason': 'stop', 'logprobs': None}, id='run--62efc206-0f70-4cab-b1da-7e4208d02dcf-0', usage_metadata={'input_tokens': 147, 'output_tokens': 30, 'total_tokens': 177, 'input_token_details': {'audio': 0, 'cache_read': 0}, 'output_token_details': {'audio': 0, 'reasoning': 0}})]}, next=(), config={'configurable': {'thread_id': '1', 'checkpoint_ns': '', 'checkpoint_id': '1f072383-abd8-6b4e-800a-fb96bcd41ab8'}}, metadata={'source': 'loop', 'writes': {'chatbot': {'messages': [AIMessage(content=\"It seems like you're referencing a method or function, possibly related to a programming context. Can you provide more details about what you're trying to achieve?\", additional_kwargs={'refusal': None}, response_metadata={'token_usage': {'completion_tokens': 30, 'prompt_tokens': 147, 'total_tokens': 177, 'completion_tokens_details': {'accepted_prediction_tokens': 0, 'audio_tokens': 0, 'reasoning_tokens': 0, 'rejected_prediction_tokens': 0}, 'prompt_tokens_details': {'audio_tokens': 0, 'cached_tokens': 0}}, 'model_name': 'gpt-4o-mini-2024-07-18', 'system_fingerprint': 'fp_34a54ae93c', 'id': 'chatcmpl-C1IHK0tY4dntdE95FXVhQZNXvAP7B', 'service_tier': 'default', 'finish_reason': 'stop', 'logprobs': None}, id='run--62efc206-0f70-4cab-b1da-7e4208d02dcf-0', usage_metadata={'input_tokens': 147, 'output_tokens': 30, 'total_tokens': 177, 'input_token_details': {'audio': 0, 'cache_read': 0}, 'output_token_details': {'audio': 0, 'reasoning': 0}})]}}, 'step': 10, 'parents': {}, 'thread_id': '1'}, created_at='2025-08-05T20:10:27.772080+00:00', parent_config={'configurable': {'thread_id': '1', 'checkpoint_ns': '', 'checkpoint_id': '1f072383-9f72-64d6-8009-a8ad83ea4fd4'}}, tasks=(), interrupts=()),\n",
       " StateSnapshot(values={'messages': [HumanMessage(content='hello', additional_kwargs={}, response_metadata={}, id='f95c6374-6937-4687-a360-d6508f8a5518'), AIMessage(content='Hello! How can I assist you today?', additional_kwargs={'refusal': None}, response_metadata={'token_usage': {'completion_tokens': 10, 'prompt_tokens': 80, 'total_tokens': 90, 'completion_tokens_details': {'accepted_prediction_tokens': 0, 'audio_tokens': 0, 'reasoning_tokens': 0, 'rejected_prediction_tokens': 0}, 'prompt_tokens_details': {'audio_tokens': 0, 'cached_tokens': 0}}, 'model_name': 'gpt-4o-mini-2024-07-18', 'system_fingerprint': 'fp_34a54ae93c', 'id': 'chatcmpl-C1IGoEZQH3tQlYPcXTjn22tr1Gnno', 'service_tier': 'default', 'finish_reason': 'stop', 'logprobs': None}, id='run--ac59bf91-6ea4-4402-9b2e-0120c3f48ec8-0', usage_metadata={'input_tokens': 80, 'output_tokens': 10, 'total_tokens': 90, 'input_token_details': {'audio': 0, 'cache_read': 0}, 'output_token_details': {'audio': 0, 'reasoning': 0}}), HumanMessage(content='my name is Gulya', additional_kwargs={}, response_metadata={}, id='eaf2fd5c-adf3-4d86-98a7-2c0ecdd98de7'), AIMessage(content='Nice to meet you, Gulya! How can I help you today?', additional_kwargs={'refusal': None}, response_metadata={'token_usage': {'completion_tokens': 16, 'prompt_tokens': 102, 'total_tokens': 118, 'completion_tokens_details': {'accepted_prediction_tokens': 0, 'audio_tokens': 0, 'reasoning_tokens': 0, 'rejected_prediction_tokens': 0}, 'prompt_tokens_details': {'audio_tokens': 0, 'cached_tokens': 0}}, 'model_name': 'gpt-4o-mini-2024-07-18', 'system_fingerprint': 'fp_34a54ae93c', 'id': 'chatcmpl-C1IGugv89QLD9b6DMzoxquxV9NLux', 'service_tier': 'default', 'finish_reason': 'stop', 'logprobs': None}, id='run--9f456b10-4a9f-4dc5-8076-187ebc0a5d7a-0', usage_metadata={'input_tokens': 102, 'output_tokens': 16, 'total_tokens': 118, 'input_token_details': {'audio': 0, 'cache_read': 0}, 'output_token_details': {'audio': 0, 'reasoning': 0}}), HumanMessage(content='what is my name', additional_kwargs={}, response_metadata={}, id='8a5c066b-2c9b-472f-b048-24c42721d7a5'), AIMessage(content='Your name is Gulya.', additional_kwargs={'refusal': None}, response_metadata={'token_usage': {'completion_tokens': 7, 'prompt_tokens': 129, 'total_tokens': 136, 'completion_tokens_details': {'accepted_prediction_tokens': 0, 'audio_tokens': 0, 'reasoning_tokens': 0, 'rejected_prediction_tokens': 0}, 'prompt_tokens_details': {'audio_tokens': 0, 'cached_tokens': 0}}, 'model_name': 'gpt-4o-mini-2024-07-18', 'system_fingerprint': 'fp_34a54ae93c', 'id': 'chatcmpl-C1IH0SmYmFMyLApZTSwMTGujO9Eng', 'service_tier': 'default', 'finish_reason': 'stop', 'logprobs': None}, id='run--ec29e377-0db0-4401-a147-a14d45e9f629-0', usage_metadata={'input_tokens': 129, 'output_tokens': 7, 'total_tokens': 136, 'input_token_details': {'audio': 0, 'cache_read': 0}, 'output_token_details': {'audio': 0, 'reasoning': 0}}), HumanMessage(content='graph.get_state()', additional_kwargs={}, response_metadata={}, id='ff7a7968-1274-40ea-9401-00a224ee95f1')]}, next=('chatbot',), config={'configurable': {'thread_id': '1', 'checkpoint_ns': '', 'checkpoint_id': '1f072383-9f72-64d6-8009-a8ad83ea4fd4'}}, metadata={'source': 'loop', 'writes': None, 'step': 9, 'parents': {}, 'thread_id': '1'}, created_at='2025-08-05T20:10:26.471836+00:00', parent_config={'configurable': {'thread_id': '1', 'checkpoint_ns': '', 'checkpoint_id': '1f072383-9f6f-62a4-8008-6bcf327ce835'}}, tasks=(PregelTask(id='340619aa-2f8c-a43a-2915-aa94bb372d91', name='chatbot', path=('__pregel_pull', 'chatbot'), error=None, interrupts=(), state=None, result={'messages': [AIMessage(content=\"It seems like you're referencing a method or function, possibly related to a programming context. Can you provide more details about what you're trying to achieve?\", additional_kwargs={'refusal': None}, response_metadata={'token_usage': {'completion_tokens': 30, 'prompt_tokens': 147, 'total_tokens': 177, 'completion_tokens_details': {'accepted_prediction_tokens': 0, 'audio_tokens': 0, 'reasoning_tokens': 0, 'rejected_prediction_tokens': 0}, 'prompt_tokens_details': {'audio_tokens': 0, 'cached_tokens': 0}}, 'model_name': 'gpt-4o-mini-2024-07-18', 'system_fingerprint': 'fp_34a54ae93c', 'id': 'chatcmpl-C1IHK0tY4dntdE95FXVhQZNXvAP7B', 'service_tier': 'default', 'finish_reason': 'stop', 'logprobs': None}, id='run--62efc206-0f70-4cab-b1da-7e4208d02dcf-0', usage_metadata={'input_tokens': 147, 'output_tokens': 30, 'total_tokens': 177, 'input_token_details': {'audio': 0, 'cache_read': 0}, 'output_token_details': {'audio': 0, 'reasoning': 0}})]}),), interrupts=()),\n",
       " StateSnapshot(values={'messages': [HumanMessage(content='hello', additional_kwargs={}, response_metadata={}, id='f95c6374-6937-4687-a360-d6508f8a5518'), AIMessage(content='Hello! How can I assist you today?', additional_kwargs={'refusal': None}, response_metadata={'token_usage': {'completion_tokens': 10, 'prompt_tokens': 80, 'total_tokens': 90, 'completion_tokens_details': {'accepted_prediction_tokens': 0, 'audio_tokens': 0, 'reasoning_tokens': 0, 'rejected_prediction_tokens': 0}, 'prompt_tokens_details': {'audio_tokens': 0, 'cached_tokens': 0}}, 'model_name': 'gpt-4o-mini-2024-07-18', 'system_fingerprint': 'fp_34a54ae93c', 'id': 'chatcmpl-C1IGoEZQH3tQlYPcXTjn22tr1Gnno', 'service_tier': 'default', 'finish_reason': 'stop', 'logprobs': None}, id='run--ac59bf91-6ea4-4402-9b2e-0120c3f48ec8-0', usage_metadata={'input_tokens': 80, 'output_tokens': 10, 'total_tokens': 90, 'input_token_details': {'audio': 0, 'cache_read': 0}, 'output_token_details': {'audio': 0, 'reasoning': 0}}), HumanMessage(content='my name is Gulya', additional_kwargs={}, response_metadata={}, id='eaf2fd5c-adf3-4d86-98a7-2c0ecdd98de7'), AIMessage(content='Nice to meet you, Gulya! How can I help you today?', additional_kwargs={'refusal': None}, response_metadata={'token_usage': {'completion_tokens': 16, 'prompt_tokens': 102, 'total_tokens': 118, 'completion_tokens_details': {'accepted_prediction_tokens': 0, 'audio_tokens': 0, 'reasoning_tokens': 0, 'rejected_prediction_tokens': 0}, 'prompt_tokens_details': {'audio_tokens': 0, 'cached_tokens': 0}}, 'model_name': 'gpt-4o-mini-2024-07-18', 'system_fingerprint': 'fp_34a54ae93c', 'id': 'chatcmpl-C1IGugv89QLD9b6DMzoxquxV9NLux', 'service_tier': 'default', 'finish_reason': 'stop', 'logprobs': None}, id='run--9f456b10-4a9f-4dc5-8076-187ebc0a5d7a-0', usage_metadata={'input_tokens': 102, 'output_tokens': 16, 'total_tokens': 118, 'input_token_details': {'audio': 0, 'cache_read': 0}, 'output_token_details': {'audio': 0, 'reasoning': 0}}), HumanMessage(content='what is my name', additional_kwargs={}, response_metadata={}, id='8a5c066b-2c9b-472f-b048-24c42721d7a5'), AIMessage(content='Your name is Gulya.', additional_kwargs={'refusal': None}, response_metadata={'token_usage': {'completion_tokens': 7, 'prompt_tokens': 129, 'total_tokens': 136, 'completion_tokens_details': {'accepted_prediction_tokens': 0, 'audio_tokens': 0, 'reasoning_tokens': 0, 'rejected_prediction_tokens': 0}, 'prompt_tokens_details': {'audio_tokens': 0, 'cached_tokens': 0}}, 'model_name': 'gpt-4o-mini-2024-07-18', 'system_fingerprint': 'fp_34a54ae93c', 'id': 'chatcmpl-C1IH0SmYmFMyLApZTSwMTGujO9Eng', 'service_tier': 'default', 'finish_reason': 'stop', 'logprobs': None}, id='run--ec29e377-0db0-4401-a147-a14d45e9f629-0', usage_metadata={'input_tokens': 129, 'output_tokens': 7, 'total_tokens': 136, 'input_token_details': {'audio': 0, 'cache_read': 0}, 'output_token_details': {'audio': 0, 'reasoning': 0}})]}, next=('__start__',), config={'configurable': {'thread_id': '1', 'checkpoint_ns': '', 'checkpoint_id': '1f072383-9f6f-62a4-8008-6bcf327ce835'}}, metadata={'source': 'input', 'writes': {'__start__': {'messages': [{'role': 'user', 'content': 'graph.get_state()'}]}}, 'step': 8, 'parents': {}, 'thread_id': '1'}, created_at='2025-08-05T20:10:26.470542+00:00', parent_config={'configurable': {'thread_id': '1', 'checkpoint_ns': '', 'checkpoint_id': '1f072382-df57-6854-8007-a0079c32146a'}}, tasks=(PregelTask(id='791adfbf-2714-82e0-10cd-31edd0e332a4', name='__start__', path=('__pregel_pull', '__start__'), error=None, interrupts=(), state=None, result={'messages': [{'role': 'user', 'content': 'graph.get_state()'}]}),), interrupts=()),\n",
       " StateSnapshot(values={'messages': [HumanMessage(content='hello', additional_kwargs={}, response_metadata={}, id='f95c6374-6937-4687-a360-d6508f8a5518'), AIMessage(content='Hello! How can I assist you today?', additional_kwargs={'refusal': None}, response_metadata={'token_usage': {'completion_tokens': 10, 'prompt_tokens': 80, 'total_tokens': 90, 'completion_tokens_details': {'accepted_prediction_tokens': 0, 'audio_tokens': 0, 'reasoning_tokens': 0, 'rejected_prediction_tokens': 0}, 'prompt_tokens_details': {'audio_tokens': 0, 'cached_tokens': 0}}, 'model_name': 'gpt-4o-mini-2024-07-18', 'system_fingerprint': 'fp_34a54ae93c', 'id': 'chatcmpl-C1IGoEZQH3tQlYPcXTjn22tr1Gnno', 'service_tier': 'default', 'finish_reason': 'stop', 'logprobs': None}, id='run--ac59bf91-6ea4-4402-9b2e-0120c3f48ec8-0', usage_metadata={'input_tokens': 80, 'output_tokens': 10, 'total_tokens': 90, 'input_token_details': {'audio': 0, 'cache_read': 0}, 'output_token_details': {'audio': 0, 'reasoning': 0}}), HumanMessage(content='my name is Gulya', additional_kwargs={}, response_metadata={}, id='eaf2fd5c-adf3-4d86-98a7-2c0ecdd98de7'), AIMessage(content='Nice to meet you, Gulya! How can I help you today?', additional_kwargs={'refusal': None}, response_metadata={'token_usage': {'completion_tokens': 16, 'prompt_tokens': 102, 'total_tokens': 118, 'completion_tokens_details': {'accepted_prediction_tokens': 0, 'audio_tokens': 0, 'reasoning_tokens': 0, 'rejected_prediction_tokens': 0}, 'prompt_tokens_details': {'audio_tokens': 0, 'cached_tokens': 0}}, 'model_name': 'gpt-4o-mini-2024-07-18', 'system_fingerprint': 'fp_34a54ae93c', 'id': 'chatcmpl-C1IGugv89QLD9b6DMzoxquxV9NLux', 'service_tier': 'default', 'finish_reason': 'stop', 'logprobs': None}, id='run--9f456b10-4a9f-4dc5-8076-187ebc0a5d7a-0', usage_metadata={'input_tokens': 102, 'output_tokens': 16, 'total_tokens': 118, 'input_token_details': {'audio': 0, 'cache_read': 0}, 'output_token_details': {'audio': 0, 'reasoning': 0}}), HumanMessage(content='what is my name', additional_kwargs={}, response_metadata={}, id='8a5c066b-2c9b-472f-b048-24c42721d7a5'), AIMessage(content='Your name is Gulya.', additional_kwargs={'refusal': None}, response_metadata={'token_usage': {'completion_tokens': 7, 'prompt_tokens': 129, 'total_tokens': 136, 'completion_tokens_details': {'accepted_prediction_tokens': 0, 'audio_tokens': 0, 'reasoning_tokens': 0, 'rejected_prediction_tokens': 0}, 'prompt_tokens_details': {'audio_tokens': 0, 'cached_tokens': 0}}, 'model_name': 'gpt-4o-mini-2024-07-18', 'system_fingerprint': 'fp_34a54ae93c', 'id': 'chatcmpl-C1IH0SmYmFMyLApZTSwMTGujO9Eng', 'service_tier': 'default', 'finish_reason': 'stop', 'logprobs': None}, id='run--ec29e377-0db0-4401-a147-a14d45e9f629-0', usage_metadata={'input_tokens': 129, 'output_tokens': 7, 'total_tokens': 136, 'input_token_details': {'audio': 0, 'cache_read': 0}, 'output_token_details': {'audio': 0, 'reasoning': 0}})]}, next=(), config={'configurable': {'thread_id': '1', 'checkpoint_ns': '', 'checkpoint_id': '1f072382-df57-6854-8007-a0079c32146a'}}, metadata={'source': 'loop', 'writes': {'chatbot': {'messages': [AIMessage(content='Your name is Gulya.', additional_kwargs={'refusal': None}, response_metadata={'token_usage': {'completion_tokens': 7, 'prompt_tokens': 129, 'total_tokens': 136, 'completion_tokens_details': {'accepted_prediction_tokens': 0, 'audio_tokens': 0, 'reasoning_tokens': 0, 'rejected_prediction_tokens': 0}, 'prompt_tokens_details': {'audio_tokens': 0, 'cached_tokens': 0}}, 'model_name': 'gpt-4o-mini-2024-07-18', 'system_fingerprint': 'fp_34a54ae93c', 'id': 'chatcmpl-C1IH0SmYmFMyLApZTSwMTGujO9Eng', 'service_tier': 'default', 'finish_reason': 'stop', 'logprobs': None}, id='run--ec29e377-0db0-4401-a147-a14d45e9f629-0', usage_metadata={'input_tokens': 129, 'output_tokens': 7, 'total_tokens': 136, 'input_token_details': {'audio': 0, 'cache_read': 0}, 'output_token_details': {'audio': 0, 'reasoning': 0}})]}}, 'step': 7, 'parents': {}, 'thread_id': '1'}, created_at='2025-08-05T20:10:06.328206+00:00', parent_config={'configurable': {'thread_id': '1', 'checkpoint_ns': '', 'checkpoint_id': '1f072382-d82b-6242-8006-5b6c66076a22'}}, tasks=(), interrupts=()),\n",
       " StateSnapshot(values={'messages': [HumanMessage(content='hello', additional_kwargs={}, response_metadata={}, id='f95c6374-6937-4687-a360-d6508f8a5518'), AIMessage(content='Hello! How can I assist you today?', additional_kwargs={'refusal': None}, response_metadata={'token_usage': {'completion_tokens': 10, 'prompt_tokens': 80, 'total_tokens': 90, 'completion_tokens_details': {'accepted_prediction_tokens': 0, 'audio_tokens': 0, 'reasoning_tokens': 0, 'rejected_prediction_tokens': 0}, 'prompt_tokens_details': {'audio_tokens': 0, 'cached_tokens': 0}}, 'model_name': 'gpt-4o-mini-2024-07-18', 'system_fingerprint': 'fp_34a54ae93c', 'id': 'chatcmpl-C1IGoEZQH3tQlYPcXTjn22tr1Gnno', 'service_tier': 'default', 'finish_reason': 'stop', 'logprobs': None}, id='run--ac59bf91-6ea4-4402-9b2e-0120c3f48ec8-0', usage_metadata={'input_tokens': 80, 'output_tokens': 10, 'total_tokens': 90, 'input_token_details': {'audio': 0, 'cache_read': 0}, 'output_token_details': {'audio': 0, 'reasoning': 0}}), HumanMessage(content='my name is Gulya', additional_kwargs={}, response_metadata={}, id='eaf2fd5c-adf3-4d86-98a7-2c0ecdd98de7'), AIMessage(content='Nice to meet you, Gulya! How can I help you today?', additional_kwargs={'refusal': None}, response_metadata={'token_usage': {'completion_tokens': 16, 'prompt_tokens': 102, 'total_tokens': 118, 'completion_tokens_details': {'accepted_prediction_tokens': 0, 'audio_tokens': 0, 'reasoning_tokens': 0, 'rejected_prediction_tokens': 0}, 'prompt_tokens_details': {'audio_tokens': 0, 'cached_tokens': 0}}, 'model_name': 'gpt-4o-mini-2024-07-18', 'system_fingerprint': 'fp_34a54ae93c', 'id': 'chatcmpl-C1IGugv89QLD9b6DMzoxquxV9NLux', 'service_tier': 'default', 'finish_reason': 'stop', 'logprobs': None}, id='run--9f456b10-4a9f-4dc5-8076-187ebc0a5d7a-0', usage_metadata={'input_tokens': 102, 'output_tokens': 16, 'total_tokens': 118, 'input_token_details': {'audio': 0, 'cache_read': 0}, 'output_token_details': {'audio': 0, 'reasoning': 0}}), HumanMessage(content='what is my name', additional_kwargs={}, response_metadata={}, id='8a5c066b-2c9b-472f-b048-24c42721d7a5')]}, next=('chatbot',), config={'configurable': {'thread_id': '1', 'checkpoint_ns': '', 'checkpoint_id': '1f072382-d82b-6242-8006-5b6c66076a22'}}, metadata={'source': 'loop', 'writes': None, 'step': 6, 'parents': {}, 'thread_id': '1'}, created_at='2025-08-05T20:10:05.576031+00:00', parent_config={'configurable': {'thread_id': '1', 'checkpoint_ns': '', 'checkpoint_id': '1f072382-d829-638e-8005-29e17cde1f48'}}, tasks=(PregelTask(id='567c24bb-36c1-e9d2-a68b-f04768c67bee', name='chatbot', path=('__pregel_pull', 'chatbot'), error=None, interrupts=(), state=None, result={'messages': [AIMessage(content='Your name is Gulya.', additional_kwargs={'refusal': None}, response_metadata={'token_usage': {'completion_tokens': 7, 'prompt_tokens': 129, 'total_tokens': 136, 'completion_tokens_details': {'accepted_prediction_tokens': 0, 'audio_tokens': 0, 'reasoning_tokens': 0, 'rejected_prediction_tokens': 0}, 'prompt_tokens_details': {'audio_tokens': 0, 'cached_tokens': 0}}, 'model_name': 'gpt-4o-mini-2024-07-18', 'system_fingerprint': 'fp_34a54ae93c', 'id': 'chatcmpl-C1IH0SmYmFMyLApZTSwMTGujO9Eng', 'service_tier': 'default', 'finish_reason': 'stop', 'logprobs': None}, id='run--ec29e377-0db0-4401-a147-a14d45e9f629-0', usage_metadata={'input_tokens': 129, 'output_tokens': 7, 'total_tokens': 136, 'input_token_details': {'audio': 0, 'cache_read': 0}, 'output_token_details': {'audio': 0, 'reasoning': 0}})]}),), interrupts=()),\n",
       " StateSnapshot(values={'messages': [HumanMessage(content='hello', additional_kwargs={}, response_metadata={}, id='f95c6374-6937-4687-a360-d6508f8a5518'), AIMessage(content='Hello! How can I assist you today?', additional_kwargs={'refusal': None}, response_metadata={'token_usage': {'completion_tokens': 10, 'prompt_tokens': 80, 'total_tokens': 90, 'completion_tokens_details': {'accepted_prediction_tokens': 0, 'audio_tokens': 0, 'reasoning_tokens': 0, 'rejected_prediction_tokens': 0}, 'prompt_tokens_details': {'audio_tokens': 0, 'cached_tokens': 0}}, 'model_name': 'gpt-4o-mini-2024-07-18', 'system_fingerprint': 'fp_34a54ae93c', 'id': 'chatcmpl-C1IGoEZQH3tQlYPcXTjn22tr1Gnno', 'service_tier': 'default', 'finish_reason': 'stop', 'logprobs': None}, id='run--ac59bf91-6ea4-4402-9b2e-0120c3f48ec8-0', usage_metadata={'input_tokens': 80, 'output_tokens': 10, 'total_tokens': 90, 'input_token_details': {'audio': 0, 'cache_read': 0}, 'output_token_details': {'audio': 0, 'reasoning': 0}}), HumanMessage(content='my name is Gulya', additional_kwargs={}, response_metadata={}, id='eaf2fd5c-adf3-4d86-98a7-2c0ecdd98de7'), AIMessage(content='Nice to meet you, Gulya! How can I help you today?', additional_kwargs={'refusal': None}, response_metadata={'token_usage': {'completion_tokens': 16, 'prompt_tokens': 102, 'total_tokens': 118, 'completion_tokens_details': {'accepted_prediction_tokens': 0, 'audio_tokens': 0, 'reasoning_tokens': 0, 'rejected_prediction_tokens': 0}, 'prompt_tokens_details': {'audio_tokens': 0, 'cached_tokens': 0}}, 'model_name': 'gpt-4o-mini-2024-07-18', 'system_fingerprint': 'fp_34a54ae93c', 'id': 'chatcmpl-C1IGugv89QLD9b6DMzoxquxV9NLux', 'service_tier': 'default', 'finish_reason': 'stop', 'logprobs': None}, id='run--9f456b10-4a9f-4dc5-8076-187ebc0a5d7a-0', usage_metadata={'input_tokens': 102, 'output_tokens': 16, 'total_tokens': 118, 'input_token_details': {'audio': 0, 'cache_read': 0}, 'output_token_details': {'audio': 0, 'reasoning': 0}})]}, next=('__start__',), config={'configurable': {'thread_id': '1', 'checkpoint_ns': '', 'checkpoint_id': '1f072382-d829-638e-8005-29e17cde1f48'}}, metadata={'source': 'input', 'writes': {'__start__': {'messages': [{'role': 'user', 'content': 'what is my name'}]}}, 'step': 5, 'parents': {}, 'thread_id': '1'}, created_at='2025-08-05T20:10:05.575247+00:00', parent_config={'configurable': {'thread_id': '1', 'checkpoint_ns': '', 'checkpoint_id': '1f072382-b040-6f34-8004-faeb9e4a6e04'}}, tasks=(PregelTask(id='201ecd82-2c48-3cc9-5564-15f8ad71908c', name='__start__', path=('__pregel_pull', '__start__'), error=None, interrupts=(), state=None, result={'messages': [{'role': 'user', 'content': 'what is my name'}]}),), interrupts=()),\n",
       " StateSnapshot(values={'messages': [HumanMessage(content='hello', additional_kwargs={}, response_metadata={}, id='f95c6374-6937-4687-a360-d6508f8a5518'), AIMessage(content='Hello! How can I assist you today?', additional_kwargs={'refusal': None}, response_metadata={'token_usage': {'completion_tokens': 10, 'prompt_tokens': 80, 'total_tokens': 90, 'completion_tokens_details': {'accepted_prediction_tokens': 0, 'audio_tokens': 0, 'reasoning_tokens': 0, 'rejected_prediction_tokens': 0}, 'prompt_tokens_details': {'audio_tokens': 0, 'cached_tokens': 0}}, 'model_name': 'gpt-4o-mini-2024-07-18', 'system_fingerprint': 'fp_34a54ae93c', 'id': 'chatcmpl-C1IGoEZQH3tQlYPcXTjn22tr1Gnno', 'service_tier': 'default', 'finish_reason': 'stop', 'logprobs': None}, id='run--ac59bf91-6ea4-4402-9b2e-0120c3f48ec8-0', usage_metadata={'input_tokens': 80, 'output_tokens': 10, 'total_tokens': 90, 'input_token_details': {'audio': 0, 'cache_read': 0}, 'output_token_details': {'audio': 0, 'reasoning': 0}}), HumanMessage(content='my name is Gulya', additional_kwargs={}, response_metadata={}, id='eaf2fd5c-adf3-4d86-98a7-2c0ecdd98de7'), AIMessage(content='Nice to meet you, Gulya! How can I help you today?', additional_kwargs={'refusal': None}, response_metadata={'token_usage': {'completion_tokens': 16, 'prompt_tokens': 102, 'total_tokens': 118, 'completion_tokens_details': {'accepted_prediction_tokens': 0, 'audio_tokens': 0, 'reasoning_tokens': 0, 'rejected_prediction_tokens': 0}, 'prompt_tokens_details': {'audio_tokens': 0, 'cached_tokens': 0}}, 'model_name': 'gpt-4o-mini-2024-07-18', 'system_fingerprint': 'fp_34a54ae93c', 'id': 'chatcmpl-C1IGugv89QLD9b6DMzoxquxV9NLux', 'service_tier': 'default', 'finish_reason': 'stop', 'logprobs': None}, id='run--9f456b10-4a9f-4dc5-8076-187ebc0a5d7a-0', usage_metadata={'input_tokens': 102, 'output_tokens': 16, 'total_tokens': 118, 'input_token_details': {'audio': 0, 'cache_read': 0}, 'output_token_details': {'audio': 0, 'reasoning': 0}})]}, next=(), config={'configurable': {'thread_id': '1', 'checkpoint_ns': '', 'checkpoint_id': '1f072382-b040-6f34-8004-faeb9e4a6e04'}}, metadata={'source': 'loop', 'writes': {'chatbot': {'messages': [AIMessage(content='Nice to meet you, Gulya! How can I help you today?', additional_kwargs={'refusal': None}, response_metadata={'token_usage': {'completion_tokens': 16, 'prompt_tokens': 102, 'total_tokens': 118, 'completion_tokens_details': {'accepted_prediction_tokens': 0, 'audio_tokens': 0, 'reasoning_tokens': 0, 'rejected_prediction_tokens': 0}, 'prompt_tokens_details': {'audio_tokens': 0, 'cached_tokens': 0}}, 'model_name': 'gpt-4o-mini-2024-07-18', 'system_fingerprint': 'fp_34a54ae93c', 'id': 'chatcmpl-C1IGugv89QLD9b6DMzoxquxV9NLux', 'service_tier': 'default', 'finish_reason': 'stop', 'logprobs': None}, id='run--9f456b10-4a9f-4dc5-8076-187ebc0a5d7a-0', usage_metadata={'input_tokens': 102, 'output_tokens': 16, 'total_tokens': 118, 'input_token_details': {'audio': 0, 'cache_read': 0}, 'output_token_details': {'audio': 0, 'reasoning': 0}})]}}, 'step': 4, 'parents': {}, 'thread_id': '1'}, created_at='2025-08-05T20:10:01.390662+00:00', parent_config={'configurable': {'thread_id': '1', 'checkpoint_ns': '', 'checkpoint_id': '1f072382-a1ac-675c-8003-0d349f901af4'}}, tasks=(), interrupts=()),\n",
       " StateSnapshot(values={'messages': [HumanMessage(content='hello', additional_kwargs={}, response_metadata={}, id='f95c6374-6937-4687-a360-d6508f8a5518'), AIMessage(content='Hello! How can I assist you today?', additional_kwargs={'refusal': None}, response_metadata={'token_usage': {'completion_tokens': 10, 'prompt_tokens': 80, 'total_tokens': 90, 'completion_tokens_details': {'accepted_prediction_tokens': 0, 'audio_tokens': 0, 'reasoning_tokens': 0, 'rejected_prediction_tokens': 0}, 'prompt_tokens_details': {'audio_tokens': 0, 'cached_tokens': 0}}, 'model_name': 'gpt-4o-mini-2024-07-18', 'system_fingerprint': 'fp_34a54ae93c', 'id': 'chatcmpl-C1IGoEZQH3tQlYPcXTjn22tr1Gnno', 'service_tier': 'default', 'finish_reason': 'stop', 'logprobs': None}, id='run--ac59bf91-6ea4-4402-9b2e-0120c3f48ec8-0', usage_metadata={'input_tokens': 80, 'output_tokens': 10, 'total_tokens': 90, 'input_token_details': {'audio': 0, 'cache_read': 0}, 'output_token_details': {'audio': 0, 'reasoning': 0}}), HumanMessage(content='my name is Gulya', additional_kwargs={}, response_metadata={}, id='eaf2fd5c-adf3-4d86-98a7-2c0ecdd98de7')]}, next=('chatbot',), config={'configurable': {'thread_id': '1', 'checkpoint_ns': '', 'checkpoint_id': '1f072382-a1ac-675c-8003-0d349f901af4'}}, metadata={'source': 'loop', 'writes': None, 'step': 3, 'parents': {}, 'thread_id': '1'}, created_at='2025-08-05T20:09:59.861796+00:00', parent_config={'configurable': {'thread_id': '1', 'checkpoint_ns': '', 'checkpoint_id': '1f072382-a1a8-6df0-8002-a726909f1799'}}, tasks=(PregelTask(id='ea4b2f3d-912f-7163-0f08-770dbb21844c', name='chatbot', path=('__pregel_pull', 'chatbot'), error=None, interrupts=(), state=None, result={'messages': [AIMessage(content='Nice to meet you, Gulya! How can I help you today?', additional_kwargs={'refusal': None}, response_metadata={'token_usage': {'completion_tokens': 16, 'prompt_tokens': 102, 'total_tokens': 118, 'completion_tokens_details': {'accepted_prediction_tokens': 0, 'audio_tokens': 0, 'reasoning_tokens': 0, 'rejected_prediction_tokens': 0}, 'prompt_tokens_details': {'audio_tokens': 0, 'cached_tokens': 0}}, 'model_name': 'gpt-4o-mini-2024-07-18', 'system_fingerprint': 'fp_34a54ae93c', 'id': 'chatcmpl-C1IGugv89QLD9b6DMzoxquxV9NLux', 'service_tier': 'default', 'finish_reason': 'stop', 'logprobs': None}, id='run--9f456b10-4a9f-4dc5-8076-187ebc0a5d7a-0', usage_metadata={'input_tokens': 102, 'output_tokens': 16, 'total_tokens': 118, 'input_token_details': {'audio': 0, 'cache_read': 0}, 'output_token_details': {'audio': 0, 'reasoning': 0}})]}),), interrupts=()),\n",
       " StateSnapshot(values={'messages': [HumanMessage(content='hello', additional_kwargs={}, response_metadata={}, id='f95c6374-6937-4687-a360-d6508f8a5518'), AIMessage(content='Hello! How can I assist you today?', additional_kwargs={'refusal': None}, response_metadata={'token_usage': {'completion_tokens': 10, 'prompt_tokens': 80, 'total_tokens': 90, 'completion_tokens_details': {'accepted_prediction_tokens': 0, 'audio_tokens': 0, 'reasoning_tokens': 0, 'rejected_prediction_tokens': 0}, 'prompt_tokens_details': {'audio_tokens': 0, 'cached_tokens': 0}}, 'model_name': 'gpt-4o-mini-2024-07-18', 'system_fingerprint': 'fp_34a54ae93c', 'id': 'chatcmpl-C1IGoEZQH3tQlYPcXTjn22tr1Gnno', 'service_tier': 'default', 'finish_reason': 'stop', 'logprobs': None}, id='run--ac59bf91-6ea4-4402-9b2e-0120c3f48ec8-0', usage_metadata={'input_tokens': 80, 'output_tokens': 10, 'total_tokens': 90, 'input_token_details': {'audio': 0, 'cache_read': 0}, 'output_token_details': {'audio': 0, 'reasoning': 0}})]}, next=('__start__',), config={'configurable': {'thread_id': '1', 'checkpoint_ns': '', 'checkpoint_id': '1f072382-a1a8-6df0-8002-a726909f1799'}}, metadata={'source': 'input', 'writes': {'__start__': {'messages': [{'role': 'user', 'content': 'my name is Gulya'}]}}, 'step': 2, 'parents': {}, 'thread_id': '1'}, created_at='2025-08-05T20:09:59.860356+00:00', parent_config={'configurable': {'thread_id': '1', 'checkpoint_ns': '', 'checkpoint_id': '1f072382-6f31-6f8e-8001-182f8bbfca57'}}, tasks=(PregelTask(id='c24be0cf-de3f-5b45-5b95-81ffad310ff2', name='__start__', path=('__pregel_pull', '__start__'), error=None, interrupts=(), state=None, result={'messages': [{'role': 'user', 'content': 'my name is Gulya'}]}),), interrupts=()),\n",
       " StateSnapshot(values={'messages': [HumanMessage(content='hello', additional_kwargs={}, response_metadata={}, id='f95c6374-6937-4687-a360-d6508f8a5518'), AIMessage(content='Hello! How can I assist you today?', additional_kwargs={'refusal': None}, response_metadata={'token_usage': {'completion_tokens': 10, 'prompt_tokens': 80, 'total_tokens': 90, 'completion_tokens_details': {'accepted_prediction_tokens': 0, 'audio_tokens': 0, 'reasoning_tokens': 0, 'rejected_prediction_tokens': 0}, 'prompt_tokens_details': {'audio_tokens': 0, 'cached_tokens': 0}}, 'model_name': 'gpt-4o-mini-2024-07-18', 'system_fingerprint': 'fp_34a54ae93c', 'id': 'chatcmpl-C1IGoEZQH3tQlYPcXTjn22tr1Gnno', 'service_tier': 'default', 'finish_reason': 'stop', 'logprobs': None}, id='run--ac59bf91-6ea4-4402-9b2e-0120c3f48ec8-0', usage_metadata={'input_tokens': 80, 'output_tokens': 10, 'total_tokens': 90, 'input_token_details': {'audio': 0, 'cache_read': 0}, 'output_token_details': {'audio': 0, 'reasoning': 0}})]}, next=(), config={'configurable': {'thread_id': '1', 'checkpoint_ns': '', 'checkpoint_id': '1f072382-6f31-6f8e-8001-182f8bbfca57'}}, metadata={'source': 'loop', 'writes': {'chatbot': {'messages': [AIMessage(content='Hello! How can I assist you today?', additional_kwargs={'refusal': None}, response_metadata={'token_usage': {'completion_tokens': 10, 'prompt_tokens': 80, 'total_tokens': 90, 'completion_tokens_details': {'accepted_prediction_tokens': 0, 'audio_tokens': 0, 'reasoning_tokens': 0, 'rejected_prediction_tokens': 0}, 'prompt_tokens_details': {'audio_tokens': 0, 'cached_tokens': 0}}, 'model_name': 'gpt-4o-mini-2024-07-18', 'system_fingerprint': 'fp_34a54ae93c', 'id': 'chatcmpl-C1IGoEZQH3tQlYPcXTjn22tr1Gnno', 'service_tier': 'default', 'finish_reason': 'stop', 'logprobs': None}, id='run--ac59bf91-6ea4-4402-9b2e-0120c3f48ec8-0', usage_metadata={'input_tokens': 80, 'output_tokens': 10, 'total_tokens': 90, 'input_token_details': {'audio': 0, 'cache_read': 0}, 'output_token_details': {'audio': 0, 'reasoning': 0}})]}}, 'step': 1, 'parents': {}, 'thread_id': '1'}, created_at='2025-08-05T20:09:54.568784+00:00', parent_config={'configurable': {'thread_id': '1', 'checkpoint_ns': '', 'checkpoint_id': '1f072382-67dc-6a22-8000-6cfccd3d277a'}}, tasks=(), interrupts=()),\n",
       " StateSnapshot(values={'messages': [HumanMessage(content='hello', additional_kwargs={}, response_metadata={}, id='f95c6374-6937-4687-a360-d6508f8a5518')]}, next=('chatbot',), config={'configurable': {'thread_id': '1', 'checkpoint_ns': '', 'checkpoint_id': '1f072382-67dc-6a22-8000-6cfccd3d277a'}}, metadata={'source': 'loop', 'writes': None, 'step': 0, 'parents': {}, 'thread_id': '1'}, created_at='2025-08-05T20:09:53.799815+00:00', parent_config={'configurable': {'thread_id': '1', 'checkpoint_ns': '', 'checkpoint_id': '1f072382-67ce-6634-bfff-240dfb415a96'}}, tasks=(PregelTask(id='500b3928-d025-ad41-bf91-06e929244bda', name='chatbot', path=('__pregel_pull', 'chatbot'), error=None, interrupts=(), state=None, result={'messages': [AIMessage(content='Hello! How can I assist you today?', additional_kwargs={'refusal': None}, response_metadata={'token_usage': {'completion_tokens': 10, 'prompt_tokens': 80, 'total_tokens': 90, 'completion_tokens_details': {'accepted_prediction_tokens': 0, 'audio_tokens': 0, 'reasoning_tokens': 0, 'rejected_prediction_tokens': 0}, 'prompt_tokens_details': {'audio_tokens': 0, 'cached_tokens': 0}}, 'model_name': 'gpt-4o-mini-2024-07-18', 'system_fingerprint': 'fp_34a54ae93c', 'id': 'chatcmpl-C1IGoEZQH3tQlYPcXTjn22tr1Gnno', 'service_tier': 'default', 'finish_reason': 'stop', 'logprobs': None}, id='run--ac59bf91-6ea4-4402-9b2e-0120c3f48ec8-0', usage_metadata={'input_tokens': 80, 'output_tokens': 10, 'total_tokens': 90, 'input_token_details': {'audio': 0, 'cache_read': 0}, 'output_token_details': {'audio': 0, 'reasoning': 0}})]}),), interrupts=()),\n",
       " StateSnapshot(values={'messages': []}, next=('__start__',), config={'configurable': {'thread_id': '1', 'checkpoint_ns': '', 'checkpoint_id': '1f072382-67ce-6634-bfff-240dfb415a96'}}, metadata={'source': 'input', 'writes': {'__start__': {'messages': [{'role': 'user', 'content': 'hello'}]}}, 'step': -1, 'parents': {}, 'thread_id': '1'}, created_at='2025-08-05T20:09:53.793989+00:00', parent_config=None, tasks=(PregelTask(id='d7b95d2c-38a2-f3b3-6883-6166d8f8c1f1', name='__start__', path=('__pregel_pull', '__start__'), error=None, interrupts=(), state=None, result={'messages': [{'role': 'user', 'content': 'hello'}]}),), interrupts=())]"
      ]
     },
     "execution_count": 21,
     "metadata": {},
     "output_type": "execute_result"
    }
   ],
   "source": [
    "list(graph.get_state_history(config))"
   ]
  },
  {
   "cell_type": "markdown",
   "id": "6b12a5a7",
   "metadata": {},
   "source": [
    "Store memory in SQL"
   ]
  },
  {
   "cell_type": "code",
   "execution_count": 22,
   "id": "59e5a270",
   "metadata": {},
   "outputs": [],
   "source": [
    "import sqlite3\n",
    "from langgraph.checkpoint.sqlite import SqliteSaver\n",
    "\n",
    "db_path = \"memory.db\"\n",
    "conn = sqlite3.connect(db_path, check_same_thread=False)\n",
    "sql_memory = SqliteSaver(conn)"
   ]
  },
  {
   "cell_type": "code",
   "execution_count": 23,
   "id": "ed3b0bc1",
   "metadata": {},
   "outputs": [
    {
     "data": {
      "image/png": "[encoded data removed]",
      "text/plain": [
       "<IPython.core.display.Image object>"
      ]
     },
     "metadata": {},
     "output_type": "display_data"
    }
   ],
   "source": [
    " # Steps 1 and 2\n",
    "graph_builder = StateGraph(State)\n",
    "\n",
    "\n",
    "# Step 3\n",
    "llm = ChatOpenAI(model=\"gpt-4o-mini\")\n",
    "llm_with_tools = llm.bind_tools(tools)\n",
    "\n",
    "def chatbot(state: State):\n",
    "    print(state)\n",
    "    return {\"messages\": [llm_with_tools.invoke(state[\"messages\"])]}\n",
    "\n",
    "graph_builder.add_node(\"chatbot\", chatbot)\n",
    "graph_builder.add_node(\"tools\", ToolNode(tools=tools))\n",
    "\n",
    "# Step 4\n",
    "graph_builder.add_conditional_edges( \"chatbot\", tools_condition, \"tools\")\n",
    "graph_builder.add_edge(\"tools\", \"chatbot\")\n",
    "graph_builder.add_edge(START, \"chatbot\")\n",
    "\n",
    "# Step 5\n",
    "graph = graph_builder.compile(checkpointer=sql_memory)\n",
    "display(Image(graph.get_graph().draw_mermaid_png()))\n",
    " "
   ]
  },
  {
   "cell_type": "code",
   "execution_count": null,
   "id": "2a6e3786",
   "metadata": {},
   "outputs": [
    {
     "name": "stdout",
     "output_type": "stream",
     "text": [
      "* Running on local URL:  http://127.0.0.1:7866\n",
      "* To create a public link, set `share=True` in `launch()`.\n"
     ]
    },
    {
     "data": {
      "text/html": [
       "<div><iframe src=\"http://127.0.0.1:7866/\" width=\"100%\" height=\"500\" allow=\"autoplay; camera; microphone; clipboard-read; clipboard-write;\" frameborder=\"0\" allowfullscreen></iframe></div>"
      ],
      "text/plain": [
       "<IPython.core.display.HTML object>"
      ]
     },
     "metadata": {},
     "output_type": "display_data"
    },
    {
     "data": {
      "text/plain": []
     },
     "execution_count": 25,
     "metadata": {},
     "output_type": "execute_result"
    },
    {
     "name": "stdout",
     "output_type": "stream",
     "text": [
      "{'messages': [HumanMessage(content='hello, my name is Gulya', additional_kwargs={}, response_metadata={}, id='6f015f29-a226-42ef-bbe1-66e1726450ab')]}\n",
      "{'messages': [HumanMessage(content='hello, my name is Gulya', additional_kwargs={}, response_metadata={}, id='6f015f29-a226-42ef-bbe1-66e1726450ab'), AIMessage(content='Hello, Gulya! How can I assist you today?', additional_kwargs={'refusal': None}, response_metadata={'token_usage': {'completion_tokens': 13, 'prompt_tokens': 86, 'total_tokens': 99, 'completion_tokens_details': {'accepted_prediction_tokens': 0, 'audio_tokens': 0, 'reasoning_tokens': 0, 'rejected_prediction_tokens': 0}, 'prompt_tokens_details': {'audio_tokens': 0, 'cached_tokens': 0}}, 'model_name': 'gpt-4o-mini-2024-07-18', 'system_fingerprint': 'fp_34a54ae93c', 'id': 'chatcmpl-C1KtgJDIIzu2tCzMkZWXhkHJEVRX6', 'service_tier': 'default', 'finish_reason': 'stop', 'logprobs': None}, id='run--20f4175f-cdf4-4c3d-b651-47e405e84390-0', usage_metadata={'input_tokens': 86, 'output_tokens': 13, 'total_tokens': 99, 'input_token_details': {'audio': 0, 'cache_read': 0}, 'output_token_details': {'audio': 0, 'reasoning': 0}}), HumanMessage(content='what is my name/', additional_kwargs={}, response_metadata={}, id='d17b857d-1b5d-4770-a4a7-7e56e1d3e35c')]}\n",
      "{'messages': [HumanMessage(content='hello, my name is Gulya', additional_kwargs={}, response_metadata={}, id='6f015f29-a226-42ef-bbe1-66e1726450ab'), AIMessage(content='Hello, Gulya! How can I assist you today?', additional_kwargs={'refusal': None}, response_metadata={'token_usage': {'completion_tokens': 13, 'prompt_tokens': 86, 'total_tokens': 99, 'completion_tokens_details': {'accepted_prediction_tokens': 0, 'audio_tokens': 0, 'reasoning_tokens': 0, 'rejected_prediction_tokens': 0}, 'prompt_tokens_details': {'audio_tokens': 0, 'cached_tokens': 0}}, 'model_name': 'gpt-4o-mini-2024-07-18', 'system_fingerprint': 'fp_34a54ae93c', 'id': 'chatcmpl-C1KtgJDIIzu2tCzMkZWXhkHJEVRX6', 'service_tier': 'default', 'finish_reason': 'stop', 'logprobs': None}, id='run--20f4175f-cdf4-4c3d-b651-47e405e84390-0', usage_metadata={'input_tokens': 86, 'output_tokens': 13, 'total_tokens': 99, 'input_token_details': {'audio': 0, 'cache_read': 0}, 'output_token_details': {'audio': 0, 'reasoning': 0}}), HumanMessage(content='what is my name/', additional_kwargs={}, response_metadata={}, id='d17b857d-1b5d-4770-a4a7-7e56e1d3e35c'), AIMessage(content='Your name is Gulya. How can I help you today?', additional_kwargs={'refusal': None}, response_metadata={'token_usage': {'completion_tokens': 14, 'prompt_tokens': 111, 'total_tokens': 125, 'completion_tokens_details': {'accepted_prediction_tokens': 0, 'audio_tokens': 0, 'reasoning_tokens': 0, 'rejected_prediction_tokens': 0}, 'prompt_tokens_details': {'audio_tokens': 0, 'cached_tokens': 0}}, 'model_name': 'gpt-4o-mini-2024-07-18', 'system_fingerprint': 'fp_34a54ae93c', 'id': 'chatcmpl-C1KtoNX3TM5OcRwKUZgt7akeXLhyE', 'service_tier': 'default', 'finish_reason': 'stop', 'logprobs': None}, id='run--fdbf1e8c-8b8f-463a-8ea9-17fbb608230a-0', usage_metadata={'input_tokens': 111, 'output_tokens': 14, 'total_tokens': 125, 'input_token_details': {'audio': 0, 'cache_read': 0}, 'output_token_details': {'audio': 0, 'reasoning': 0}}), HumanMessage(content='what is current weather in san Francisco?', additional_kwargs={}, response_metadata={}, id='1c020e96-50ab-4b9d-9229-73265eae3948')]}\n",
      "{'messages': [HumanMessage(content='hello, my name is Gulya', additional_kwargs={}, response_metadata={}, id='6f015f29-a226-42ef-bbe1-66e1726450ab'), AIMessage(content='Hello, Gulya! How can I assist you today?', additional_kwargs={'refusal': None}, response_metadata={'token_usage': {'completion_tokens': 13, 'prompt_tokens': 86, 'total_tokens': 99, 'completion_tokens_details': {'accepted_prediction_tokens': 0, 'audio_tokens': 0, 'reasoning_tokens': 0, 'rejected_prediction_tokens': 0}, 'prompt_tokens_details': {'audio_tokens': 0, 'cached_tokens': 0}}, 'model_name': 'gpt-4o-mini-2024-07-18', 'system_fingerprint': 'fp_34a54ae93c', 'id': 'chatcmpl-C1KtgJDIIzu2tCzMkZWXhkHJEVRX6', 'service_tier': 'default', 'finish_reason': 'stop', 'logprobs': None}, id='run--20f4175f-cdf4-4c3d-b651-47e405e84390-0', usage_metadata={'input_tokens': 86, 'output_tokens': 13, 'total_tokens': 99, 'input_token_details': {'audio': 0, 'cache_read': 0}, 'output_token_details': {'audio': 0, 'reasoning': 0}}), HumanMessage(content='what is my name/', additional_kwargs={}, response_metadata={}, id='d17b857d-1b5d-4770-a4a7-7e56e1d3e35c'), AIMessage(content='Your name is Gulya. How can I help you today?', additional_kwargs={'refusal': None}, response_metadata={'token_usage': {'completion_tokens': 14, 'prompt_tokens': 111, 'total_tokens': 125, 'completion_tokens_details': {'accepted_prediction_tokens': 0, 'audio_tokens': 0, 'reasoning_tokens': 0, 'rejected_prediction_tokens': 0}, 'prompt_tokens_details': {'audio_tokens': 0, 'cached_tokens': 0}}, 'model_name': 'gpt-4o-mini-2024-07-18', 'system_fingerprint': 'fp_34a54ae93c', 'id': 'chatcmpl-C1KtoNX3TM5OcRwKUZgt7akeXLhyE', 'service_tier': 'default', 'finish_reason': 'stop', 'logprobs': None}, id='run--fdbf1e8c-8b8f-463a-8ea9-17fbb608230a-0', usage_metadata={'input_tokens': 111, 'output_tokens': 14, 'total_tokens': 125, 'input_token_details': {'audio': 0, 'cache_read': 0}, 'output_token_details': {'audio': 0, 'reasoning': 0}}), HumanMessage(content='what is current weather in san Francisco?', additional_kwargs={}, response_metadata={}, id='1c020e96-50ab-4b9d-9229-73265eae3948'), AIMessage(content='', additional_kwargs={'tool_calls': [{'id': 'call_hk0d2nnHvukgeCuWSZ82GvKx', 'function': {'arguments': '{\"__arg1\":\"current weather in San Francisco\"}', 'name': 'Search'}, 'type': 'function'}], 'refusal': None}, response_metadata={'token_usage': {'completion_tokens': 19, 'prompt_tokens': 140, 'total_tokens': 159, 'completion_tokens_details': {'accepted_prediction_tokens': 0, 'audio_tokens': 0, 'reasoning_tokens': 0, 'rejected_prediction_tokens': 0}, 'prompt_tokens_details': {'audio_tokens': 0, 'cached_tokens': 0}}, 'model_name': 'gpt-4o-mini-2024-07-18', 'system_fingerprint': 'fp_34a54ae93c', 'id': 'chatcmpl-C1KuGIbk4nNdVvXcEqGNESYYRaEox', 'service_tier': 'default', 'finish_reason': 'tool_calls', 'logprobs': None}, id='run--443751e5-110a-4f10-bbaa-9e2267b2ebdb-0', tool_calls=[{'name': 'Search', 'args': {'__arg1': 'current weather in San Francisco'}, 'id': 'call_hk0d2nnHvukgeCuWSZ82GvKx', 'type': 'tool_call'}], usage_metadata={'input_tokens': 140, 'output_tokens': 19, 'total_tokens': 159, 'input_token_details': {'audio': 0, 'cache_read': 0}, 'output_token_details': {'audio': 0, 'reasoning': 0}}), ToolMessage(content=\"Today's Weather. Tue, Aug 5. Clouds giving way to sun Hi: 64°. Tonight: Clear early, then areas of low clouds forming Lo: 55° · Current Weather. 3:47 PM. 64°F. San Francisco, CA · Current Weather. 1:19 PM. 64°F. Mostly sunny. RealFeel® 75°. Pleasant. RealFeel Guide. Pleasant. 63° to 81°. Most consider ... AccuWeather · Feels Like. 53°. Sunrise. 6:16 AM · Humidity. 85%. Sunset. 8:15 PM · Windspeed. W 12 mph. Moonrise. 5:14 PM · Pressure. 30.02 in. Moonset. 1:25 AM. 10 Day Weather-San Francisco, CA. As of 8:35 am PDT. Today. 66°/54°. 5%. Day. 66°. 5%. WSW 16 mph. Partly cloudy. High 66F. Winds WSW at 10 to 20 mph. Sun 15 · 63 · Sunshine and clouds mixed. High 63F. Winds W at 15 to 25 mph. ; Mon 16 · 63 · Some clouds in the morning will give way to mainly sunny skies for the ... Partly cloudy. High 66F. Winds WSW at 10 to 20 mph. icon. Tonight 08/05. 17 % / 0 in. Mainly clear. Low near 55F ... NWS Forecast Office San Francisco, CA · Current Outlooks · Detailed Hazards · Submit Report · Daily Briefing · Tsunami · Graphical Hazardous Weather Outlook. Partly cloudy skies. High 73F. Winds WSW at 10 to 20 mph. Forecast: Good Tuesday as temps warm mid-week · The coolest Bay Area summer in decades is setting records · US seeing more extreme heat streaks · How cool ...\", name='Search', id='a6856fd4-769d-4159-8a89-d2ccc697a228', tool_call_id='call_hk0d2nnHvukgeCuWSZ82GvKx')]}\n"
     ]
    }
   ],
   "source": [
    "config = {\"configurable\": {\"thread_id\": \"3\"}}\n",
    "\n",
    "def chat(user_input: str, history):\n",
    "    result = graph.invoke({\"messages\": [{\"role\": \"user\", \"content\": user_input}]}, config = config)\n",
    "    return result[\"messages\"][-1].content\n",
    "\n",
    "gr.ChatInterface(chat, type=\"messages\").launch()"
   ]
  },
  {
   "cell_type": "code",
   "execution_count": null,
   "id": "5b73f75a",
   "metadata": {},
   "outputs": [],
   "source": []
  }
 ],
 "metadata": {
  "kernelspec": {
   "display_name": ".venv",
   "language": "python",
   "name": "python3"
  },
  "language_info": {
   "codemirror_mode": {
    "name": "ipython",
    "version": 3
   },
   "file_extension": ".py",
   "mimetype": "text/x-python",
   "name": "python",
   "nbconvert_exporter": "python",
   "pygments_lexer": "ipython3",
   "version": "3.12.11"
  }
 },
 "nbformat": 4,
 "nbformat_minor": 5
}
