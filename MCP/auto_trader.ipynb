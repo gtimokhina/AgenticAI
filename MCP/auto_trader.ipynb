{
 "cells": [
  {
   "cell_type": "markdown",
   "id": "6c36edce",
   "metadata": {},
   "source": [
    "Autonomous Traders\n",
    "\n",
    "An equity trading simulation, with 4 Traders and a Researcher, powered by a slew of MCP servers with tools & resources:\n",
    "\n",
    "1. Use home-made Accounts MCP server (written by our engineering team!)\n",
    "2. Fetch (get webpage via a local headless browser)\n",
    "3. Memory(sqllite)\n",
    "4. Brave Search\n",
    "5. Financial data(Polygon.io)\n",
    "\n",
    "And a resource to read information about the trader's account, and their investment strategy.\n",
    "\n",
    "Experiment and explore here, and then migrate to a python module <<traders.py>>(a single trader on our trading floor)"
   ]
  },
  {
   "cell_type": "code",
   "execution_count": 1,
   "id": "de78cf9e",
   "metadata": {},
   "outputs": [
    {
     "data": {
      "text/plain": [
       "True"
      ]
     },
     "execution_count": 1,
     "metadata": {},
     "output_type": "execute_result"
    }
   ],
   "source": [
    "import os\n",
    "from dotenv import load_dotenv\n",
    "from agents import Agent, Runner, trace, Tool\n",
    "from agents.mcp import MCPServerStdio\n",
    "from IPython.display import Markdown, display\n",
    "from datetime import datetime\n",
    "from accounts_client import read_accounts_resource, read_strategy_resource\n",
    "from accounts import Account\n",
    "\n",
    "load_dotenv(override=True)"
   ]
  },
  {
   "cell_type": "code",
   "execution_count": 2,
   "id": "ae2d72a9",
   "metadata": {},
   "outputs": [
    {
     "name": "stdout",
     "output_type": "stream",
     "text": [
      "False\n",
      "False\n"
     ]
    }
   ],
   "source": [
    "polygon_api_key = os.getenv(\"POLYGON_API_KEY\")\n",
    "polygon_plan = os.getenv(\"POLYGON_PLAN\")\n",
    "\n",
    "is_paid_polygon = polygon_plan == \"paid\"\n",
    "is_realtime_polygon = polygon_plan == \"realtime\"\n",
    "\n",
    "print(is_paid_polygon)\n",
    "print(is_realtime_polygon)"
   ]
  },
  {
   "cell_type": "markdown",
   "id": "2f3aee92",
   "metadata": {},
   "source": [
    "Create MCP params for our traders"
   ]
  },
  {
   "cell_type": "code",
   "execution_count": 3,
   "id": "ca8f872d",
   "metadata": {},
   "outputs": [],
   "source": [
    "# if you have a paid polygon account, use their mcp tools, otherwise use yours(created)\n",
    "if is_paid_polygon or is_realtime_polygon:\n",
    "    market_mcp = {\"command\": \"uvx\",\"args\": [\"--from\", \"git+https://github.com/polygon-io/mcp_polygon@master\", \"mcp_polygon\"], \"env\": {\"POLYGON_API_KEY\": polygon_api_key}}\n",
    "else:\n",
    "    market_mcp = ({\"command\": \"uv\", \"args\": [\"run\", \"market_server.py\"]})"
   ]
  },
  {
   "cell_type": "code",
   "execution_count": 4,
   "id": "de93d4ee",
   "metadata": {},
   "outputs": [],
   "source": [
    "trader_mcp_server_params = [\n",
    "    {\"command\": \"uv\", \"args\": [\"run\", \"accounts_server.py\"]},\n",
    "    {\"command\": \"uv\", \"args\": [\"run\", \"push_server.py\"]},\n",
    "    market_mcp\n",
    "]"
   ]
  },
  {
   "cell_type": "markdown",
   "id": "260d2b3f",
   "metadata": {},
   "source": [
    "Params for researcher"
   ]
  },
  {
   "cell_type": "code",
   "execution_count": 5,
   "id": "f21a7b18",
   "metadata": {},
   "outputs": [],
   "source": [
    "brave_env = {\"BRAVE_API_KEY\": os.getenv(\"BRAVE_API_KEY\")}\n",
    "\n",
    "researcher_mcp_server_params = [\n",
    "    {\"command\": \"uvx\", \"args\": [\"mcp-server-fetch\"]},\n",
    "    {\"command\": \"npx\", \"args\": [\"-y\", \"@modelcontextprotocol/server-brave-search\"], \"env\": brave_env}\n",
    "]"
   ]
  },
  {
   "cell_type": "markdown",
   "id": "8aa5644b",
   "metadata": {},
   "source": [
    "Create MCPServerStdio for each(trader and researcher)"
   ]
  },
  {
   "cell_type": "code",
   "execution_count": 6,
   "id": "f4fe2676",
   "metadata": {},
   "outputs": [],
   "source": [
    "researcher_mcp_servers = [MCPServerStdio(params, client_session_timeout_seconds=30) for params in researcher_mcp_server_params]\n",
    "trader_mcp_servers = [MCPServerStdio(params, client_session_timeout_seconds=30) for params in trader_mcp_server_params]\n",
    "mcp_servers = trader_mcp_servers + researcher_mcp_servers"
   ]
  },
  {
   "cell_type": "markdown",
   "id": "f66dbf06",
   "metadata": {},
   "source": [
    "Create a Researcher Agent to do market research\n",
    "\n",
    "Note: In OpenAI Agents SDK agent could be used as a tool"
   ]
  },
  {
   "cell_type": "code",
   "execution_count": 7,
   "id": "b586cf6d",
   "metadata": {},
   "outputs": [],
   "source": [
    "async def get_researcher(mcp_servers) -> Agent:\n",
    "    instructions = f\"\"\"You are a financial researcher. You are able to search the web for interesting financial news,\n",
    "look for possible trading opportunities, and help with research.\n",
    "Based on the request, you carry out necessary research and respond with your findings.\n",
    "Take time to make multiple searches to get a comprehensive overview, and then summarize your findings.\n",
    "If there isn't a specific request, then just respond with investment opportunities based on searching latest news.\n",
    "The current datetime is {datetime.now().strftime(\"%Y-%m-%d %H:%M:%S\")}\n",
    "\"\"\"\n",
    "    researcher = Agent(\n",
    "        name=\"Reseacher\",\n",
    "        instructions=instructions,\n",
    "        model=\"gpt-4.1-mini\",\n",
    "        mcp_servers=mcp_servers\n",
    "    )\n",
    "    return researcher"
   ]
  },
  {
   "cell_type": "code",
   "execution_count": 8,
   "id": "f7643ae5",
   "metadata": {},
   "outputs": [],
   "source": [
    "async def get_researcher_tool(mcp_servers) -> Tool:\n",
    "    researcher = await get_researcher(mcp_servers)\n",
    "    return researcher.as_tool(\n",
    "        tool_name=\"Researcher\",\n",
    "        tool_description=\"This tool researches online for news and opportunities, \\\n",
    "                either based on your specific request to look into a certain stock, \\\n",
    "                or generally for notable financial news and opportunities. \\\n",
    "                Describe what kind of research you're looking for.\"\n",
    "        )\n",
    "\n"
   ]
  },
  {
   "cell_type": "markdown",
   "id": "e3327072",
   "metadata": {},
   "source": [
    "Try calling our research Agent for something"
   ]
  },
  {
   "cell_type": "code",
   "execution_count": 9,
   "id": "9e8c8225",
   "metadata": {},
   "outputs": [
    {
     "data": {
      "text/markdown": [
       "Here is the latest news summary on SoundHound.ai:\n",
       "\n",
       "1. SoundHound AI recently released a study showing growing consumer interest in ordering food via in-vehicle voice assistants, highlighting a shift toward voice commerce. (Source: SoundHound press release)\n",
       "\n",
       "2. The stock price of SoundHound AI (NASDAQ: SOUN) has seen a notable recent movement — it surged 69% month-to-date but then experienced a sharp pullback with a 10.26% drop on a recent trading day, marking the third consecutive day of declines. (Source: Yahoo Finance)\n",
       "\n",
       "3. Despite strong customer acquisition and increased revenue guidance for 2025, SoundHound AI remains unprofitable and is experiencing widening losses. (Source: Yahoo Finance)\n",
       "\n",
       "Overall, the company is making strides in voice commerce technology and market interest, but it faces profitability challenges at present, and its stock price has had significant volatility recently.\n",
       "\n",
       "Would you like a deeper financial analysis or focus on recent developments in their products and market strategy?"
      ],
      "text/plain": [
       "<IPython.core.display.Markdown object>"
      ]
     },
     "metadata": {},
     "output_type": "display_data"
    }
   ],
   "source": [
    "research_question = \"What's the latest news on SoundHound.ai?\"\n",
    "\n",
    "for server in researcher_mcp_servers:\n",
    "    await server.connect()\n",
    "researcher = await get_researcher(researcher_mcp_servers)\n",
    "with trace(\"researcher\"):\n",
    "    result = await Runner.run(researcher, research_question, max_turns=30)\n",
    "\n",
    "display(Markdown(result.final_output))"
   ]
  },
  {
   "cell_type": "markdown",
   "id": "44a66101",
   "metadata": {},
   "source": [
    "Check the traces: https://platform.openai.com/traces"
   ]
  },
  {
   "cell_type": "markdown",
   "id": "1d190481",
   "metadata": {},
   "source": [
    "Create a Trader Agent"
   ]
  },
  {
   "cell_type": "code",
   "execution_count": 10,
   "id": "7794b911",
   "metadata": {},
   "outputs": [
    {
     "data": {
      "text/markdown": [
       "{\"name\": \"gulnara\", \"balance\": 10000.0, \"strategy\": \"You are a day trader that aggressively buys and sells shares based on news and market conditions.\", \"holdings\": {}, \"transactions\": [], \"portfolio_value_time_series\": [[\"2025-08-21 09:32:39\", 10000.0]], \"total_portfolio_value\": 10000.0, \"total_profit_loss\": 0.0}"
      ],
      "text/plain": [
       "<IPython.core.display.Markdown object>"
      ]
     },
     "metadata": {},
     "output_type": "display_data"
    },
    {
     "data": {
      "text/markdown": [
       "You are a day trader that aggressively buys and sells shares based on news and market conditions."
      ],
      "text/plain": [
       "<IPython.core.display.Markdown object>"
      ]
     },
     "metadata": {},
     "output_type": "display_data"
    }
   ],
   "source": [
    "initial_strategy = \"You are a day trader that aggressively buys and sells shares based on news and market conditions.\"\n",
    "Account.get(\"Gulnara\").reset(initial_strategy)\n",
    "\n",
    "display(Markdown(await read_accounts_resource(\"Gulnara\")))\n",
    "display(Markdown(await read_strategy_resource(\"Gulnara\")))"
   ]
  },
  {
   "cell_type": "code",
   "execution_count": 11,
   "id": "3df3c5cc",
   "metadata": {},
   "outputs": [],
   "source": [
    "agent_name = \"Gulnara\"\n",
    "\n",
    "# Using MCP Servers to read resources\n",
    "account_details = await read_accounts_resource(agent_name)\n",
    "strategy = await read_strategy_resource(agent_name)\n",
    "\n",
    "instructions = f\"\"\"\n",
    "You are a trader that manages a portfolio of shares. Your name is {agent_name} and your account is under your name, {agent_name}.\n",
    "You have access to tools that allow you to search the internet for company news, check stock prices, and buy and sell shares.\n",
    "Your investment strategy for your portfolio is:\n",
    "{strategy}\n",
    "Your current holdings and balance is:\n",
    "{account_details}\n",
    "You have the tools to perform a websearch for relevant news and information.\n",
    "You have tools to check stock prices.\n",
    "You have tools to buy and sell shares.\n",
    "You have tools to save memory of companies, research and thinking so far.\n",
    "Please make use of these tools to manage your portfolio. Carry out trades as you see fit; do not wait for instructions or ask for confirmation.\n",
    "\"\"\"\n",
    "\n",
    "prompt = \"\"\"\n",
    "Use your tools to make decisions about your portfolio.\n",
    "Investigate the news and the market, make your decision, make the trades, and respond with a summary of your actions.\n",
    "\"\"\""
   ]
  },
  {
   "cell_type": "code",
   "execution_count": 12,
   "id": "58d6498b",
   "metadata": {},
   "outputs": [
    {
     "name": "stdout",
     "output_type": "stream",
     "text": [
      "\n",
      "You are a trader that manages a portfolio of shares. Your name is Gulnara and your account is under your name, Gulnara.\n",
      "You have access to tools that allow you to search the internet for company news, check stock prices, and buy and sell shares.\n",
      "Your investment strategy for your portfolio is:\n",
      "You are a day trader that aggressively buys and sells shares based on news and market conditions.\n",
      "Your current holdings and balance is:\n",
      "{\"name\": \"gulnara\", \"balance\": 10000.0, \"strategy\": \"You are a day trader that aggressively buys and sells shares based on news and market conditions.\", \"holdings\": {}, \"transactions\": [], \"portfolio_value_time_series\": [[\"2025-08-21 09:32:39\", 10000.0], [\"2025-08-21 09:32:42\", 10000.0]], \"total_portfolio_value\": 10000.0, \"total_profit_loss\": 0.0}\n",
      "You have the tools to perform a websearch for relevant news and information.\n",
      "You have tools to check stock prices.\n",
      "You have tools to buy and sell shares.\n",
      "You have tools to save memory of companies, research and thinking so far.\n",
      "Please make use of these tools to manage your portfolio. Carry out trades as you see fit; do not wait for instructions or ask for confirmation.\n",
      "\n"
     ]
    }
   ],
   "source": [
    "print(instructions)"
   ]
  },
  {
   "cell_type": "markdown",
   "id": "4c0e8457",
   "metadata": {},
   "source": [
    "Run the Trader Agent"
   ]
  },
  {
   "cell_type": "code",
   "execution_count": 13,
   "id": "d9c87195",
   "metadata": {},
   "outputs": [
    {
     "data": {
      "text/markdown": [
       "I have executed an initial trade based on recent earnings information in the technology sector. Specifically, I bought 40 shares of MINISO Group Holding Limited (MNSO) at approximately $20.88 per share. This company showed a positive EPS surprise of +28.22%, which could indicate near-term upward momentum and volatility suitable for day trading.\n",
       "\n",
       "I will continue to monitor the price movements and news for MNSO and other technology stocks with earnings updates to make further trades."
      ],
      "text/plain": [
       "<IPython.core.display.Markdown object>"
      ]
     },
     "metadata": {},
     "output_type": "display_data"
    }
   ],
   "source": [
    "for server in mcp_servers:\n",
    "    await server.connect()\n",
    "\n",
    "researcher_tool = await get_researcher_tool(researcher_mcp_servers)\n",
    "trader = Agent(\n",
    "    name=agent_name,\n",
    "    instructions=instructions,\n",
    "    tools=[researcher_tool],\n",
    "    mcp_servers=trader_mcp_servers,\n",
    "    model=\"gpt-4.1-mini\",\n",
    ")\n",
    "with trace(agent_name):\n",
    "    result = await Runner.run(trader, prompt, max_turns=30)\n",
    "display(Markdown(result.final_output))"
   ]
  },
  {
   "cell_type": "code",
   "execution_count": 14,
   "id": "46f550d6",
   "metadata": {},
   "outputs": [
    {
     "data": {
      "text/plain": [
       "'{\"name\": \"gulnara\", \"balance\": 9164.7328, \"strategy\": \"You are a day trader that aggressively buys and sells shares based on news and market conditions.\", \"holdings\": {\"MNSO\": 40}, \"transactions\": [{\"symbol\": \"MNSO\", \"quantity\": 40, \"price\": 20.88168, \"timestamp\": \"2025-08-21 09:34:55\", \"rationale\": \"MINISO Group Holding Limited has a positive EPS surprise of +28.22%, indicating potential upward momentum and volatility suitable for aggressive day trading.\"}], \"portfolio_value_time_series\": [[\"2025-08-21 09:32:39\", 10000.0], [\"2025-08-21 09:32:42\", 10000.0], [\"2025-08-21 09:34:55\", 9998.3328], [\"2025-08-21 12:42:38\", 9998.3328]], \"total_portfolio_value\": 9998.3328, \"total_profit_loss\": -1.6671999999998661}'"
      ]
     },
     "execution_count": 14,
     "metadata": {},
     "output_type": "execute_result"
    }
   ],
   "source": [
    "# check account\n",
    "await read_accounts_resource(agent_name)"
   ]
  },
  {
   "cell_type": "markdown",
   "id": "1f73ee94",
   "metadata": {},
   "source": [
    "I created additional files to make it modular:\n",
    "mcp_params.py` is where the MCP servers are specified. \n",
    "\n",
    "templates.py is where the instructions and messages are set up (i.e. the System prompts and User prompts)\n",
    "\n",
    "traders.py, Trader class that brings all together\n",
    "\n",
    "Lets call it:"
   ]
  },
  {
   "cell_type": "code",
   "execution_count": 15,
   "id": "61d498d9",
   "metadata": {},
   "outputs": [],
   "source": [
    "from traders import Trader\n",
    "trader = Trader(\"Gulnara\")\n",
    "await trader.run()"
   ]
  },
  {
   "cell_type": "markdown",
   "id": "2b28a157",
   "metadata": {},
   "source": [
    "check balance"
   ]
  },
  {
   "cell_type": "code",
   "execution_count": 16,
   "id": "9cffc130",
   "metadata": {},
   "outputs": [
    {
     "data": {
      "text/plain": [
       "'{\"name\": \"gulnara\", \"balance\": 6569.8534, \"strategy\": \"You are a day trader that aggressively buys and sells shares based on news and market conditions.\", \"holdings\": {\"MNSO\": 40, \"PLTR\": 10, \"NVDA\": 5, \"SOHU\": 10}, \"transactions\": [{\"symbol\": \"MNSO\", \"quantity\": 40, \"price\": 20.88168, \"timestamp\": \"2025-08-21 09:34:55\", \"rationale\": \"MINISO Group Holding Limited has a positive EPS surprise of +28.22%, indicating potential upward momentum and volatility suitable for aggressive day trading.\"}, {\"symbol\": \"PLTR\", \"quantity\": 10, \"price\": 156.32201999999998, \"timestamp\": \"2025-08-21 13:33:45\", \"rationale\": \"Palantir Technologies is showing strong upward momentum with a 461.61% return over the past year and is deeply embedded in the AI sector.\"}, {\"symbol\": \"NVDA\", \"quantity\": 5, \"price\": 175.7508, \"timestamp\": \"2025-08-21 13:33:45\", \"rationale\": \"Nvidia continues to lead in AI technology, experiencing robust market growth and strong share price performance.\"}, {\"symbol\": \"SOHU\", \"quantity\": 10, \"price\": 15.290519999999999, \"timestamp\": \"2025-08-21 13:33:45\", \"rationale\": \"Sohu.com is trading at a low P/E ratio of 4.0, making it attractive for aggressive trading based on potential upside.\"}], \"portfolio_value_time_series\": [[\"2025-08-21 09:32:39\", 10000.0], [\"2025-08-21 09:32:42\", 10000.0], [\"2025-08-21 09:34:55\", 9998.3328], [\"2025-08-21 12:42:38\", 9998.3328], [\"2025-08-21 13:32:42\", 9998.3328], [\"2025-08-21 13:33:45\", 9995.2126], [\"2025-08-21 13:33:45\", 9993.4586], [\"2025-08-21 13:33:45\", 9993.153400000001], [\"2025-08-21 13:34:21\", 9993.153400000001]], \"total_portfolio_value\": 9993.153400000001, \"total_profit_loss\": -6.8465999999989435}'"
      ]
     },
     "execution_count": 16,
     "metadata": {},
     "output_type": "execute_result"
    }
   ],
   "source": [
    "await read_accounts_resource(\"Gulnara\")\n",
    "\n",
    "# check traces also: https://platform.openai.com/traces"
   ]
  },
  {
   "cell_type": "markdown",
   "id": "21ef09e0",
   "metadata": {},
   "source": [
    "How many tools were used in total?"
   ]
  },
  {
   "cell_type": "code",
   "execution_count": 17,
   "id": "609a55ac",
   "metadata": {},
   "outputs": [
    {
     "name": "stdout",
     "output_type": "stream",
     "text": [
      "We have 6 MCP servers, and 16 tools\n"
     ]
    }
   ],
   "source": [
    "from mcp_params import trader_mcp_server_params, researcher_mcp_server_params\n",
    "\n",
    "all_params = trader_mcp_server_params + researcher_mcp_server_params(\"ed\")\n",
    "\n",
    "count = 0\n",
    "for each_params in all_params:\n",
    "    async with MCPServerStdio(params=each_params, client_session_timeout_seconds=60) as server:\n",
    "        mcp_tools = await server.list_tools()\n",
    "        count += len(mcp_tools)\n",
    "print(f\"We have {len(all_params)} MCP servers, and {count} tools\")"
   ]
  }
 ],
 "metadata": {
  "kernelspec": {
   "display_name": ".venv",
   "language": "python",
   "name": "python3"
  },
  "language_info": {
   "codemirror_mode": {
    "name": "ipython",
    "version": 3
   },
   "file_extension": ".py",
   "mimetype": "text/x-python",
   "name": "python",
   "nbconvert_exporter": "python",
   "pygments_lexer": "ipython3",
   "version": "3.12.11"
  }
 },
 "nbformat": 4,
 "nbformat_minor": 5
}
